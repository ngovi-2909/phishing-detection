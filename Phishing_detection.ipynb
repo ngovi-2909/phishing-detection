{
 "nbformat": 4,
 "nbformat_minor": 0,
 "metadata": {
  "colab": {
   "provenance": [],
   "collapsed_sections": [
    "nEwnRDM-Ud7q",
    "GpwmG_7cKfhk",
    "JvzsOk3flptx",
    "VWajaNoBNe15",
    "Dq2HhgoIPY3l",
    "sPRNOpTBQZDN",
    "pQLoN22wCS-M",
    "i4vpPYdUGLZk",
    "-gCQoJTOA7pG",
    "E-fgdOWLJbwf"
   ]
  },
  "kernelspec": {
   "name": "python3",
   "language": "python",
   "display_name": "Python 3 (ipykernel)"
  },
  "language_info": {
   "name": "python"
  }
 },
 "cells": [
  {
   "cell_type": "code",
   "execution_count": 2,
   "metadata": {
    "id": "u_IJWIbtwXLo",
    "ExecuteTime": {
     "end_time": "2024-01-26T15:46:43.090800086Z",
     "start_time": "2024-01-26T15:46:42.814042814Z"
    }
   },
   "outputs": [],
   "source": [
    "import re\n",
    "import numpy as np\n",
    "import pandas as pd\n",
    "import seaborn as sns\n",
    "import matplotlib.pyplot as plt\n",
    "from sklearn import tree"
   ]
  },
  {
   "cell_type": "code",
   "source": [
    "from urllib.parse import urlparse\n",
    "from sklearn.model_selection import train_test_split\n",
    "from sklearn.metrics import confusion_matrix, classification_report, accuracy_score, f1_score, recall_score, precision_score\n",
    "from sklearn.tree import DecisionTreeClassifier\n",
    "from sklearn.ensemble import RandomForestClassifier\n",
    "from sklearn.neighbors import KNeighborsClassifier\n",
    "from sklearn.linear_model import LogisticRegression\n",
    "from sklearn.svm import SVC\n",
    "from sklearn.neural_network import MLPClassifier\n",
    "from sklearn.naive_bayes import GaussianNB"
   ],
   "metadata": {
    "id": "XN44Au193MV1",
    "ExecuteTime": {
     "end_time": "2024-01-26T15:46:45.145490298Z",
     "start_time": "2024-01-26T15:46:45.026285923Z"
    }
   },
   "execution_count": 3,
   "outputs": []
  },
  {
   "cell_type": "code",
   "source": [
    "data = pd.read_csv('data.csv')"
   ],
   "metadata": {
    "id": "6vroiWXg2dCQ",
    "ExecuteTime": {
     "end_time": "2024-01-26T15:46:47.869108334Z",
     "start_time": "2024-01-26T15:46:47.776055737Z"
    }
   },
   "execution_count": 4,
   "outputs": []
  },
  {
   "cell_type": "code",
   "source": [
    "data.head(20)"
   ],
   "metadata": {
    "colab": {
     "base_uri": "https://localhost:8080/",
     "height": 726
    },
    "id": "gku3Wzfa2iJk",
    "outputId": "426659ea-11fe-43ec-c27e-0470e505b5ad",
    "ExecuteTime": {
     "end_time": "2024-01-26T15:48:17.469531085Z",
     "start_time": "2024-01-26T15:48:17.336104116Z"
    }
   },
   "execution_count": 5,
   "outputs": [
    {
     "data": {
      "text/plain": "                                                  url      status  is_ip  \\\n0               http://www.crestonwood.com/router.php  legitimate      0   \n1   http://shadetreetechnology.com/V4/validation/a...    phishing      0   \n2   https://support-appleld.com.secureupdate.duila...    phishing      0   \n3                                  http://rgipt.ac.in  legitimate      0   \n4   http://www.iracing.com/tracks/gateway-motorspo...  legitimate      0   \n5                    http://appleid.apple.com-app.es/    phishing      0   \n6                                 http://www.mutuo.it  legitimate      0   \n7   http://www.shadetreetechnology.com/V4/validati...    phishing      0   \n8          http://vamoaestudiarmedicina.blogspot.com/  legitimate      0   \n9   https://parade.com/425836/joshwigler/the-amazi...  legitimate      0   \n10  https://www.astrologyonline.eu/Astro_MemoNew/P...  legitimate      0   \n11        https://www.lifewire.com/tcp-port-21-818146  legitimate      0   \n12  https://technofizi.net/top-best-mp3-downloader...  legitimate      0   \n13                    http://html.house/l7ceeid6.html    phishing      0   \n14                          https://www.missfiga.com/  legitimate      0   \n15  http://wave.progressfilm.co.uk/time3/?logon=my...    phishing      0   \n16                    https://www.chiefarchitect.com/  legitimate      0   \n17  http://beta.kenaidanceta.com/postamok/d39a2/so...    phishing      0   \n18                 http://www.ktplasmachinery.com/cs/    phishing      0   \n19                        http://www.2345daohang.com/  legitimate      0   \n\n    length_url  length_hostname  tiny_url  countAtSign  countQuestionMark  \\\n0           37               19         0            0                  0   \n1           77               23         0            0                  0   \n2          126               50         0            0                  1   \n3           18               11         0            0                  0   \n4           55               15         0            0                  0   \n5           32               24         0            0                  0   \n6           19               12         0            0                  0   \n7           81               27         0            0                  0   \n8           42               34         1            0                  0   \n9          104               10         0            0                  0   \n10          56               22         0            0                  0   \n11          43               16         0            0                  0   \n12          83               14         0            0                  0   \n13          31               10         0            0                  0   \n14          25               16         0            0                  0   \n15          51               23         0            0                  1   \n16          31               22         1            0                  0   \n17          50               21         0            0                  0   \n18          34               23         0            0                  0   \n19          27               19         0            0                  0   \n\n    countHyphen  countDot  ...  length_word_raw  avg_row_words  \\\n0             0         3  ...                4       5.750000   \n1             0         1  ...                4      15.750000   \n2             1         4  ...               12       8.250000   \n3             0         2  ...                1       5.000000   \n4             2         2  ...                6       6.333333   \n5             1         3  ...                4       4.500000   \n6             0         2  ...                2       4.000000   \n7             0         2  ...                5      13.200000   \n8             0         2  ...                2      14.500000   \n9            10         1  ...               14       5.571429   \n10            0         3  ...                6       6.666667   \n11            3         2  ...                6       4.333333   \n12            9         1  ...               11       5.454545   \n13            0         2  ...                3       5.333333   \n14            0         2  ...                2       5.500000   \n15            0         3  ...                5       6.600000   \n16            0         2  ...                2       8.500000   \n17            0         2  ...                5       7.000000   \n18            0         2  ...                3       6.666667   \n19            0         2  ...                2       7.000000   \n\n    avg_row_words_host  avg_row_words_path  longest_words_raw  \\\n0                  7.0            4.500000                 11   \n1                 19.0           14.666667                 32   \n2                  8.4            8.142857                 17   \n3                  5.0            0.000000                  5   \n4                  5.0            7.000000                 11   \n5                  4.5            0.000000                  7   \n6                  4.0            0.000000                  5   \n7                 11.0           14.666667                 32   \n8                 14.5            0.000000                 21   \n9                  6.0            5.538462                 10   \n10                 9.0            5.500000                 15   \n11                 5.5            3.750000                  8   \n12                10.0            5.000000                 10   \n13                 4.0            6.000000                  8   \n14                 5.5            0.000000                  8   \n15                 8.0            5.666667                 12   \n16                 8.5            0.000000                 14   \n17                 8.0            6.333333                 12   \n18                 9.0            2.000000                 15   \n19                 7.0            0.000000                 11   \n\n    longest_word_host  longest_word_path  shortest_words_raw  \\\n0                  11                  6                   3   \n1                  19                 32                   2   \n2                  13                 17                   2   \n3                   5                  0                   5   \n4                   7                 11                   3   \n5                   7                  0                   3   \n6                   5                  0                   3   \n7                  19                 32                   2   \n8                  21                  0                   8   \n9                   6                 10                   2   \n10                 15                  7                   3   \n11                  8                  6                   2   \n12                 10                 10                   3   \n13                  4                  8                   4   \n14                  8                  0                   3   \n15                 12                  7                   4   \n16                 14                  0                   3   \n17                 12                  8                   4   \n18                 15                  2                   2   \n19                 11                  0                   3   \n\n    shortest_word_host  shortest_word_path  \n0                    3                   3  \n1                   19                   2  \n2                    3                   2  \n3                    5                   0  \n4                    3                   4  \n5                    3                   0  \n6                    3                   0  \n7                    3                   2  \n8                    8                   0  \n9                    6                   2  \n10                   3                   3  \n11                   3                   2  \n12                  10                   3  \n13                   4                   4  \n14                   3                   0  \n15                   4                   5  \n16                   3                   0  \n17                   4                   5  \n18                   3                   2  \n19                   3                   0  \n\n[20 rows x 45 columns]",
      "text/html": "<div>\n<style scoped>\n    .dataframe tbody tr th:only-of-type {\n        vertical-align: middle;\n    }\n\n    .dataframe tbody tr th {\n        vertical-align: top;\n    }\n\n    .dataframe thead th {\n        text-align: right;\n    }\n</style>\n<table border=\"1\" class=\"dataframe\">\n  <thead>\n    <tr style=\"text-align: right;\">\n      <th></th>\n      <th>url</th>\n      <th>status</th>\n      <th>is_ip</th>\n      <th>length_url</th>\n      <th>length_hostname</th>\n      <th>tiny_url</th>\n      <th>countAtSign</th>\n      <th>countQuestionMark</th>\n      <th>countHyphen</th>\n      <th>countDot</th>\n      <th>...</th>\n      <th>length_word_raw</th>\n      <th>avg_row_words</th>\n      <th>avg_row_words_host</th>\n      <th>avg_row_words_path</th>\n      <th>longest_words_raw</th>\n      <th>longest_word_host</th>\n      <th>longest_word_path</th>\n      <th>shortest_words_raw</th>\n      <th>shortest_word_host</th>\n      <th>shortest_word_path</th>\n    </tr>\n  </thead>\n  <tbody>\n    <tr>\n      <th>0</th>\n      <td>http://www.crestonwood.com/router.php</td>\n      <td>legitimate</td>\n      <td>0</td>\n      <td>37</td>\n      <td>19</td>\n      <td>0</td>\n      <td>0</td>\n      <td>0</td>\n      <td>0</td>\n      <td>3</td>\n      <td>...</td>\n      <td>4</td>\n      <td>5.750000</td>\n      <td>7.0</td>\n      <td>4.500000</td>\n      <td>11</td>\n      <td>11</td>\n      <td>6</td>\n      <td>3</td>\n      <td>3</td>\n      <td>3</td>\n    </tr>\n    <tr>\n      <th>1</th>\n      <td>http://shadetreetechnology.com/V4/validation/a...</td>\n      <td>phishing</td>\n      <td>0</td>\n      <td>77</td>\n      <td>23</td>\n      <td>0</td>\n      <td>0</td>\n      <td>0</td>\n      <td>0</td>\n      <td>1</td>\n      <td>...</td>\n      <td>4</td>\n      <td>15.750000</td>\n      <td>19.0</td>\n      <td>14.666667</td>\n      <td>32</td>\n      <td>19</td>\n      <td>32</td>\n      <td>2</td>\n      <td>19</td>\n      <td>2</td>\n    </tr>\n    <tr>\n      <th>2</th>\n      <td>https://support-appleld.com.secureupdate.duila...</td>\n      <td>phishing</td>\n      <td>0</td>\n      <td>126</td>\n      <td>50</td>\n      <td>0</td>\n      <td>0</td>\n      <td>1</td>\n      <td>1</td>\n      <td>4</td>\n      <td>...</td>\n      <td>12</td>\n      <td>8.250000</td>\n      <td>8.4</td>\n      <td>8.142857</td>\n      <td>17</td>\n      <td>13</td>\n      <td>17</td>\n      <td>2</td>\n      <td>3</td>\n      <td>2</td>\n    </tr>\n    <tr>\n      <th>3</th>\n      <td>http://rgipt.ac.in</td>\n      <td>legitimate</td>\n      <td>0</td>\n      <td>18</td>\n      <td>11</td>\n      <td>0</td>\n      <td>0</td>\n      <td>0</td>\n      <td>0</td>\n      <td>2</td>\n      <td>...</td>\n      <td>1</td>\n      <td>5.000000</td>\n      <td>5.0</td>\n      <td>0.000000</td>\n      <td>5</td>\n      <td>5</td>\n      <td>0</td>\n      <td>5</td>\n      <td>5</td>\n      <td>0</td>\n    </tr>\n    <tr>\n      <th>4</th>\n      <td>http://www.iracing.com/tracks/gateway-motorspo...</td>\n      <td>legitimate</td>\n      <td>0</td>\n      <td>55</td>\n      <td>15</td>\n      <td>0</td>\n      <td>0</td>\n      <td>0</td>\n      <td>2</td>\n      <td>2</td>\n      <td>...</td>\n      <td>6</td>\n      <td>6.333333</td>\n      <td>5.0</td>\n      <td>7.000000</td>\n      <td>11</td>\n      <td>7</td>\n      <td>11</td>\n      <td>3</td>\n      <td>3</td>\n      <td>4</td>\n    </tr>\n    <tr>\n      <th>5</th>\n      <td>http://appleid.apple.com-app.es/</td>\n      <td>phishing</td>\n      <td>0</td>\n      <td>32</td>\n      <td>24</td>\n      <td>0</td>\n      <td>0</td>\n      <td>0</td>\n      <td>1</td>\n      <td>3</td>\n      <td>...</td>\n      <td>4</td>\n      <td>4.500000</td>\n      <td>4.5</td>\n      <td>0.000000</td>\n      <td>7</td>\n      <td>7</td>\n      <td>0</td>\n      <td>3</td>\n      <td>3</td>\n      <td>0</td>\n    </tr>\n    <tr>\n      <th>6</th>\n      <td>http://www.mutuo.it</td>\n      <td>legitimate</td>\n      <td>0</td>\n      <td>19</td>\n      <td>12</td>\n      <td>0</td>\n      <td>0</td>\n      <td>0</td>\n      <td>0</td>\n      <td>2</td>\n      <td>...</td>\n      <td>2</td>\n      <td>4.000000</td>\n      <td>4.0</td>\n      <td>0.000000</td>\n      <td>5</td>\n      <td>5</td>\n      <td>0</td>\n      <td>3</td>\n      <td>3</td>\n      <td>0</td>\n    </tr>\n    <tr>\n      <th>7</th>\n      <td>http://www.shadetreetechnology.com/V4/validati...</td>\n      <td>phishing</td>\n      <td>0</td>\n      <td>81</td>\n      <td>27</td>\n      <td>0</td>\n      <td>0</td>\n      <td>0</td>\n      <td>0</td>\n      <td>2</td>\n      <td>...</td>\n      <td>5</td>\n      <td>13.200000</td>\n      <td>11.0</td>\n      <td>14.666667</td>\n      <td>32</td>\n      <td>19</td>\n      <td>32</td>\n      <td>2</td>\n      <td>3</td>\n      <td>2</td>\n    </tr>\n    <tr>\n      <th>8</th>\n      <td>http://vamoaestudiarmedicina.blogspot.com/</td>\n      <td>legitimate</td>\n      <td>0</td>\n      <td>42</td>\n      <td>34</td>\n      <td>1</td>\n      <td>0</td>\n      <td>0</td>\n      <td>0</td>\n      <td>2</td>\n      <td>...</td>\n      <td>2</td>\n      <td>14.500000</td>\n      <td>14.5</td>\n      <td>0.000000</td>\n      <td>21</td>\n      <td>21</td>\n      <td>0</td>\n      <td>8</td>\n      <td>8</td>\n      <td>0</td>\n    </tr>\n    <tr>\n      <th>9</th>\n      <td>https://parade.com/425836/joshwigler/the-amazi...</td>\n      <td>legitimate</td>\n      <td>0</td>\n      <td>104</td>\n      <td>10</td>\n      <td>0</td>\n      <td>0</td>\n      <td>0</td>\n      <td>10</td>\n      <td>1</td>\n      <td>...</td>\n      <td>14</td>\n      <td>5.571429</td>\n      <td>6.0</td>\n      <td>5.538462</td>\n      <td>10</td>\n      <td>6</td>\n      <td>10</td>\n      <td>2</td>\n      <td>6</td>\n      <td>2</td>\n    </tr>\n    <tr>\n      <th>10</th>\n      <td>https://www.astrologyonline.eu/Astro_MemoNew/P...</td>\n      <td>legitimate</td>\n      <td>0</td>\n      <td>56</td>\n      <td>22</td>\n      <td>0</td>\n      <td>0</td>\n      <td>0</td>\n      <td>0</td>\n      <td>3</td>\n      <td>...</td>\n      <td>6</td>\n      <td>6.666667</td>\n      <td>9.0</td>\n      <td>5.500000</td>\n      <td>15</td>\n      <td>15</td>\n      <td>7</td>\n      <td>3</td>\n      <td>3</td>\n      <td>3</td>\n    </tr>\n    <tr>\n      <th>11</th>\n      <td>https://www.lifewire.com/tcp-port-21-818146</td>\n      <td>legitimate</td>\n      <td>0</td>\n      <td>43</td>\n      <td>16</td>\n      <td>0</td>\n      <td>0</td>\n      <td>0</td>\n      <td>3</td>\n      <td>2</td>\n      <td>...</td>\n      <td>6</td>\n      <td>4.333333</td>\n      <td>5.5</td>\n      <td>3.750000</td>\n      <td>8</td>\n      <td>8</td>\n      <td>6</td>\n      <td>2</td>\n      <td>3</td>\n      <td>2</td>\n    </tr>\n    <tr>\n      <th>12</th>\n      <td>https://technofizi.net/top-best-mp3-downloader...</td>\n      <td>legitimate</td>\n      <td>0</td>\n      <td>83</td>\n      <td>14</td>\n      <td>0</td>\n      <td>0</td>\n      <td>0</td>\n      <td>9</td>\n      <td>1</td>\n      <td>...</td>\n      <td>11</td>\n      <td>5.454545</td>\n      <td>10.0</td>\n      <td>5.000000</td>\n      <td>10</td>\n      <td>10</td>\n      <td>10</td>\n      <td>3</td>\n      <td>10</td>\n      <td>3</td>\n    </tr>\n    <tr>\n      <th>13</th>\n      <td>http://html.house/l7ceeid6.html</td>\n      <td>phishing</td>\n      <td>0</td>\n      <td>31</td>\n      <td>10</td>\n      <td>0</td>\n      <td>0</td>\n      <td>0</td>\n      <td>0</td>\n      <td>2</td>\n      <td>...</td>\n      <td>3</td>\n      <td>5.333333</td>\n      <td>4.0</td>\n      <td>6.000000</td>\n      <td>8</td>\n      <td>4</td>\n      <td>8</td>\n      <td>4</td>\n      <td>4</td>\n      <td>4</td>\n    </tr>\n    <tr>\n      <th>14</th>\n      <td>https://www.missfiga.com/</td>\n      <td>legitimate</td>\n      <td>0</td>\n      <td>25</td>\n      <td>16</td>\n      <td>0</td>\n      <td>0</td>\n      <td>0</td>\n      <td>0</td>\n      <td>2</td>\n      <td>...</td>\n      <td>2</td>\n      <td>5.500000</td>\n      <td>5.5</td>\n      <td>0.000000</td>\n      <td>8</td>\n      <td>8</td>\n      <td>0</td>\n      <td>3</td>\n      <td>3</td>\n      <td>0</td>\n    </tr>\n    <tr>\n      <th>15</th>\n      <td>http://wave.progressfilm.co.uk/time3/?logon=my...</td>\n      <td>phishing</td>\n      <td>0</td>\n      <td>51</td>\n      <td>23</td>\n      <td>0</td>\n      <td>0</td>\n      <td>1</td>\n      <td>0</td>\n      <td>3</td>\n      <td>...</td>\n      <td>5</td>\n      <td>6.600000</td>\n      <td>8.0</td>\n      <td>5.666667</td>\n      <td>12</td>\n      <td>12</td>\n      <td>7</td>\n      <td>4</td>\n      <td>4</td>\n      <td>5</td>\n    </tr>\n    <tr>\n      <th>16</th>\n      <td>https://www.chiefarchitect.com/</td>\n      <td>legitimate</td>\n      <td>0</td>\n      <td>31</td>\n      <td>22</td>\n      <td>1</td>\n      <td>0</td>\n      <td>0</td>\n      <td>0</td>\n      <td>2</td>\n      <td>...</td>\n      <td>2</td>\n      <td>8.500000</td>\n      <td>8.5</td>\n      <td>0.000000</td>\n      <td>14</td>\n      <td>14</td>\n      <td>0</td>\n      <td>3</td>\n      <td>3</td>\n      <td>0</td>\n    </tr>\n    <tr>\n      <th>17</th>\n      <td>http://beta.kenaidanceta.com/postamok/d39a2/so...</td>\n      <td>phishing</td>\n      <td>0</td>\n      <td>50</td>\n      <td>21</td>\n      <td>0</td>\n      <td>0</td>\n      <td>0</td>\n      <td>0</td>\n      <td>2</td>\n      <td>...</td>\n      <td>5</td>\n      <td>7.000000</td>\n      <td>8.0</td>\n      <td>6.333333</td>\n      <td>12</td>\n      <td>12</td>\n      <td>8</td>\n      <td>4</td>\n      <td>4</td>\n      <td>5</td>\n    </tr>\n    <tr>\n      <th>18</th>\n      <td>http://www.ktplasmachinery.com/cs/</td>\n      <td>phishing</td>\n      <td>0</td>\n      <td>34</td>\n      <td>23</td>\n      <td>0</td>\n      <td>0</td>\n      <td>0</td>\n      <td>0</td>\n      <td>2</td>\n      <td>...</td>\n      <td>3</td>\n      <td>6.666667</td>\n      <td>9.0</td>\n      <td>2.000000</td>\n      <td>15</td>\n      <td>15</td>\n      <td>2</td>\n      <td>2</td>\n      <td>3</td>\n      <td>2</td>\n    </tr>\n    <tr>\n      <th>19</th>\n      <td>http://www.2345daohang.com/</td>\n      <td>legitimate</td>\n      <td>0</td>\n      <td>27</td>\n      <td>19</td>\n      <td>0</td>\n      <td>0</td>\n      <td>0</td>\n      <td>0</td>\n      <td>2</td>\n      <td>...</td>\n      <td>2</td>\n      <td>7.000000</td>\n      <td>7.0</td>\n      <td>0.000000</td>\n      <td>11</td>\n      <td>11</td>\n      <td>0</td>\n      <td>3</td>\n      <td>3</td>\n      <td>0</td>\n    </tr>\n  </tbody>\n</table>\n<p>20 rows × 45 columns</p>\n</div>"
     },
     "execution_count": 5,
     "metadata": {},
     "output_type": "execute_result"
    }
   ]
  },
  {
   "cell_type": "code",
   "source": [
    "data.info()"
   ],
   "metadata": {
    "colab": {
     "base_uri": "https://localhost:8080/"
    },
    "id": "3LbcuiDw2lJf",
    "outputId": "1fe539d4-3234-4d53-bca5-35c15f530f95",
    "ExecuteTime": {
     "end_time": "2024-01-26T15:48:32.958093241Z",
     "start_time": "2024-01-26T15:48:32.861849413Z"
    }
   },
   "execution_count": 6,
   "outputs": [
    {
     "name": "stdout",
     "output_type": "stream",
     "text": [
      "<class 'pandas.core.frame.DataFrame'>\n",
      "RangeIndex: 11430 entries, 0 to 11429\n",
      "Data columns (total 45 columns):\n",
      " #   Column               Non-Null Count  Dtype  \n",
      "---  ------               --------------  -----  \n",
      " 0   url                  11430 non-null  object \n",
      " 1   status               11430 non-null  object \n",
      " 2   is_ip                11430 non-null  int64  \n",
      " 3   length_url           11430 non-null  int64  \n",
      " 4   length_hostname      11430 non-null  int64  \n",
      " 5   tiny_url             11430 non-null  int64  \n",
      " 6   countAtSign          11430 non-null  int64  \n",
      " 7   countQuestionMark    11430 non-null  int64  \n",
      " 8   countHyphen          11430 non-null  int64  \n",
      " 9   countDot             11430 non-null  int64  \n",
      " 10  countComma           11430 non-null  int64  \n",
      " 11  countSemicolon       11430 non-null  int64  \n",
      " 12  countDollar          11430 non-null  int64  \n",
      " 13  countSlash           11430 non-null  int64  \n",
      " 14  have_redirect        11430 non-null  int64  \n",
      " 15  CountEqual           11430 non-null  int64  \n",
      " 16  CountPercent         11430 non-null  int64  \n",
      " 17  CountUnderScore      11430 non-null  int64  \n",
      " 18  CountDotHostName     11430 non-null  int64  \n",
      " 19  CountColon           11430 non-null  int64  \n",
      " 20  CountStar            11430 non-null  int64  \n",
      " 21  CountHttp            11430 non-null  int64  \n",
      " 22  checkHttps           11430 non-null  int64  \n",
      " 23  RatioDigitHost       11430 non-null  float64\n",
      " 24  RatioDigitsURL       11430 non-null  float64\n",
      " 25  have_prefixOrSuffix  11430 non-null  int64  \n",
      " 26  dns_record           11430 non-null  int64  \n",
      " 27  count_redirect       11430 non-null  int64  \n",
      " 28  page_rank            11430 non-null  int64  \n",
      " 29  domain_age           11430 non-null  int64  \n",
      " 30  domainRegLen         11430 non-null  int64  \n",
      " 31  RatioLinksTag        11430 non-null  float64\n",
      " 32  RatioAnchorURL       11430 non-null  float64\n",
      " 33  count_www            11430 non-null  int64  \n",
      " 34  count_com            11430 non-null  int64  \n",
      " 35  length_word_raw      11430 non-null  int64  \n",
      " 36  avg_row_words        11430 non-null  float64\n",
      " 37  avg_row_words_host   11430 non-null  float64\n",
      " 38  avg_row_words_path   11430 non-null  float64\n",
      " 39  longest_words_raw    11430 non-null  int64  \n",
      " 40  longest_word_host    11430 non-null  int64  \n",
      " 41  longest_word_path    11430 non-null  int64  \n",
      " 42  shortest_words_raw   11430 non-null  int64  \n",
      " 43  shortest_word_host   11430 non-null  int64  \n",
      " 44  shortest_word_path   11430 non-null  int64  \n",
      "dtypes: float64(7), int64(36), object(2)\n",
      "memory usage: 3.9+ MB\n"
     ]
    }
   ]
  },
  {
   "cell_type": "code",
   "source": [
    "data.isnull().sum()"
   ],
   "metadata": {
    "colab": {
     "base_uri": "https://localhost:8080/"
    },
    "id": "d-ou0nVu2o_s",
    "outputId": "1e25f5d9-cd4f-4f12-a802-faa1e4a5c6bc",
    "ExecuteTime": {
     "end_time": "2024-01-26T15:48:34.457422901Z",
     "start_time": "2024-01-26T15:48:34.379403978Z"
    }
   },
   "execution_count": 7,
   "outputs": [
    {
     "data": {
      "text/plain": "url                    0\nstatus                 0\nis_ip                  0\nlength_url             0\nlength_hostname        0\ntiny_url               0\ncountAtSign            0\ncountQuestionMark      0\ncountHyphen            0\ncountDot               0\ncountComma             0\ncountSemicolon         0\ncountDollar            0\ncountSlash             0\nhave_redirect          0\nCountEqual             0\nCountPercent           0\nCountUnderScore        0\nCountDotHostName       0\nCountColon             0\nCountStar              0\nCountHttp              0\ncheckHttps             0\nRatioDigitHost         0\nRatioDigitsURL         0\nhave_prefixOrSuffix    0\ndns_record             0\ncount_redirect         0\npage_rank              0\ndomain_age             0\ndomainRegLen           0\nRatioLinksTag          0\nRatioAnchorURL         0\ncount_www              0\ncount_com              0\nlength_word_raw        0\navg_row_words          0\navg_row_words_host     0\navg_row_words_path     0\nlongest_words_raw      0\nlongest_word_host      0\nlongest_word_path      0\nshortest_words_raw     0\nshortest_word_host     0\nshortest_word_path     0\ndtype: int64"
     },
     "execution_count": 7,
     "metadata": {},
     "output_type": "execute_result"
    }
   ]
  },
  {
   "cell_type": "code",
   "source": [
    "count = data.status.value_counts()"
   ],
   "metadata": {
    "id": "_wopLULa2u8W",
    "ExecuteTime": {
     "end_time": "2024-01-26T15:48:44.452601981Z",
     "start_time": "2024-01-26T15:48:44.392700499Z"
    }
   },
   "execution_count": 8,
   "outputs": []
  },
  {
   "cell_type": "code",
   "source": [
    "count"
   ],
   "metadata": {
    "colab": {
     "base_uri": "https://localhost:8080/"
    },
    "id": "A6yYTl3p2971",
    "outputId": "81dc1fe0-8cb4-45c9-9dd9-68208648c001",
    "ExecuteTime": {
     "end_time": "2024-01-26T15:48:45.451164013Z",
     "start_time": "2024-01-26T15:48:45.377189137Z"
    }
   },
   "execution_count": 9,
   "outputs": [
    {
     "data": {
      "text/plain": "status\nlegitimate    5715\nphishing      5715\nName: count, dtype: int64"
     },
     "execution_count": 9,
     "metadata": {},
     "output_type": "execute_result"
    }
   ]
  },
  {
   "cell_type": "code",
   "source": [
    "x = count.index\n",
    "x"
   ],
   "metadata": {
    "colab": {
     "base_uri": "https://localhost:8080/"
    },
    "id": "XC9pX1mY2_ro",
    "outputId": "017c2d43-6faa-4339-91ec-43becc43d83d",
    "ExecuteTime": {
     "end_time": "2024-01-26T15:48:47.184711666Z",
     "start_time": "2024-01-26T15:48:47.140349636Z"
    }
   },
   "execution_count": 10,
   "outputs": [
    {
     "data": {
      "text/plain": "Index(['legitimate', 'phishing'], dtype='object', name='status')"
     },
     "execution_count": 10,
     "metadata": {},
     "output_type": "execute_result"
    }
   ]
  },
  {
   "cell_type": "code",
   "source": [
    "sns.barplot(x=count.index, y=count)\n",
    "plt.xlabel('Label')\n",
    "plt.ylabel('Count')"
   ],
   "metadata": {
    "colab": {
     "base_uri": "https://localhost:8080/",
     "height": 472
    },
    "id": "KzRMmZFQ3clH",
    "outputId": "47798632-b571-4ce9-b03a-cff772ecfea6",
    "ExecuteTime": {
     "end_time": "2024-01-26T15:48:48.767354473Z",
     "start_time": "2024-01-26T15:48:48.449793750Z"
    }
   },
   "execution_count": 11,
   "outputs": [
    {
     "data": {
      "text/plain": "Text(0, 0.5, 'Count')"
     },
     "execution_count": 11,
     "metadata": {},
     "output_type": "execute_result"
    },
    {
     "data": {
      "text/plain": "<Figure size 640x480 with 1 Axes>",
      "image/png": "[encoded data removed]"
     },
     "metadata": {},
     "output_type": "display_data"
    }
   ]
  },
  {
   "cell_type": "code",
   "source": [
    "X = data.drop(['url', 'status'], axis=1)\n",
    "y = data['status']"
   ],
   "metadata": {
    "id": "5HT5oWQi4QZr",
    "ExecuteTime": {
     "end_time": "2024-01-26T15:48:52.167290609Z",
     "start_time": "2024-01-26T15:48:52.136835768Z"
    }
   },
   "execution_count": 12,
   "outputs": []
  },
  {
   "cell_type": "code",
   "source": [
    "X"
   ],
   "metadata": {
    "colab": {
     "base_uri": "https://localhost:8080/",
     "height": 444
    },
    "id": "nf-dTeyz4ech",
    "outputId": "ee7ecfef-ecf7-4b08-8a14-9860be6823e9",
    "ExecuteTime": {
     "end_time": "2024-01-26T15:48:53.484615537Z",
     "start_time": "2024-01-26T15:48:53.385104962Z"
    }
   },
   "execution_count": 13,
   "outputs": [
    {
     "data": {
      "text/plain": "       is_ip  length_url  length_hostname  tiny_url  countAtSign  \\\n0          0          37               19         0            0   \n1          0          77               23         0            0   \n2          0         126               50         0            0   \n3          0          18               11         0            0   \n4          0          55               15         0            0   \n...      ...         ...              ...       ...          ...   \n11425      0          45               17         0            0   \n11426      0          84               18         0            1   \n11427      0         105               16         0            0   \n11428      0          38               30         0            0   \n11429      1         477               14         0            1   \n\n       countQuestionMark  countHyphen  countDot  countComma  countSemicolon  \\\n0                      0            0         3           0               0   \n1                      0            0         1           0               0   \n2                      1            1         4           0               0   \n3                      0            0         2           0               0   \n4                      0            2         2           0               0   \n...                  ...          ...       ...         ...             ...   \n11425                  0            0         2           0               0   \n11426                  1            0         5           0               0   \n11427                  1            6         2           0               0   \n11428                  0            0         2           0               0   \n11429                  1            0        24           0               9   \n\n       ...  length_word_raw  avg_row_words  avg_row_words_host  \\\n0      ...                4       5.750000                7.00   \n1      ...                4      15.750000               19.00   \n2      ...               12       8.250000                8.40   \n3      ...                1       5.000000                5.00   \n4      ...                6       6.333333                5.00   \n...    ...              ...            ...                 ...   \n11425  ...                4       7.750000                6.00   \n11426  ...               12       5.166667                6.50   \n11427  ...               13       6.153846                5.50   \n11428  ...                2      12.500000               12.50   \n11429  ...               90       4.377778                2.75   \n\n       avg_row_words_path  longest_words_raw  longest_word_host  \\\n0                4.500000                 11                 11   \n1               14.666667                 32                 19   \n2                8.142857                 17                 13   \n3                0.000000                  5                  5   \n4                7.000000                 11                  7   \n...                   ...                ...                ...   \n11425            9.500000                 11                  9   \n11426            4.900000                 10                 10   \n11427            6.272727                 15                  8   \n11428            0.000000                 22                 22   \n11429            4.453488                 12                  3   \n\n       longest_word_path  shortest_words_raw  shortest_word_host  \\\n0                      6                   3                   3   \n1                     32                   2                  19   \n2                     17                   2                   3   \n3                      0                   5                   5   \n4                     11                   3                   3   \n...                  ...                 ...                 ...   \n11425                 11                   3                   3   \n11426                  8                   3                   3   \n11427                 15                   1                   3   \n11428                  0                   3                   3   \n11429                 12                   1                   2   \n\n       shortest_word_path  \n0                       3  \n1                       2  \n2                       2  \n3                       0  \n4                       4  \n...                   ...  \n11425                   8  \n11426                   3  \n11427                   1  \n11428                   0  \n11429                   1  \n\n[11430 rows x 43 columns]",
      "text/html": "<div>\n<style scoped>\n    .dataframe tbody tr th:only-of-type {\n        vertical-align: middle;\n    }\n\n    .dataframe tbody tr th {\n        vertical-align: top;\n    }\n\n    .dataframe thead th {\n        text-align: right;\n    }\n</style>\n<table border=\"1\" class=\"dataframe\">\n  <thead>\n    <tr style=\"text-align: right;\">\n      <th></th>\n      <th>is_ip</th>\n      <th>length_url</th>\n      <th>length_hostname</th>\n      <th>tiny_url</th>\n      <th>countAtSign</th>\n      <th>countQuestionMark</th>\n      <th>countHyphen</th>\n      <th>countDot</th>\n      <th>countComma</th>\n      <th>countSemicolon</th>\n      <th>...</th>\n      <th>length_word_raw</th>\n      <th>avg_row_words</th>\n      <th>avg_row_words_host</th>\n      <th>avg_row_words_path</th>\n      <th>longest_words_raw</th>\n      <th>longest_word_host</th>\n      <th>longest_word_path</th>\n      <th>shortest_words_raw</th>\n      <th>shortest_word_host</th>\n      <th>shortest_word_path</th>\n    </tr>\n  </thead>\n  <tbody>\n    <tr>\n      <th>0</th>\n      <td>0</td>\n      <td>37</td>\n      <td>19</td>\n      <td>0</td>\n      <td>0</td>\n      <td>0</td>\n      <td>0</td>\n      <td>3</td>\n      <td>0</td>\n      <td>0</td>\n      <td>...</td>\n      <td>4</td>\n      <td>5.750000</td>\n      <td>7.00</td>\n      <td>4.500000</td>\n      <td>11</td>\n      <td>11</td>\n      <td>6</td>\n      <td>3</td>\n      <td>3</td>\n      <td>3</td>\n    </tr>\n    <tr>\n      <th>1</th>\n      <td>0</td>\n      <td>77</td>\n      <td>23</td>\n      <td>0</td>\n      <td>0</td>\n      <td>0</td>\n      <td>0</td>\n      <td>1</td>\n      <td>0</td>\n      <td>0</td>\n      <td>...</td>\n      <td>4</td>\n      <td>15.750000</td>\n      <td>19.00</td>\n      <td>14.666667</td>\n      <td>32</td>\n      <td>19</td>\n      <td>32</td>\n      <td>2</td>\n      <td>19</td>\n      <td>2</td>\n    </tr>\n    <tr>\n      <th>2</th>\n      <td>0</td>\n      <td>126</td>\n      <td>50</td>\n      <td>0</td>\n      <td>0</td>\n      <td>1</td>\n      <td>1</td>\n      <td>4</td>\n      <td>0</td>\n      <td>0</td>\n      <td>...</td>\n      <td>12</td>\n      <td>8.250000</td>\n      <td>8.40</td>\n      <td>8.142857</td>\n      <td>17</td>\n      <td>13</td>\n      <td>17</td>\n      <td>2</td>\n      <td>3</td>\n      <td>2</td>\n    </tr>\n    <tr>\n      <th>3</th>\n      <td>0</td>\n      <td>18</td>\n      <td>11</td>\n      <td>0</td>\n      <td>0</td>\n      <td>0</td>\n      <td>0</td>\n      <td>2</td>\n      <td>0</td>\n      <td>0</td>\n      <td>...</td>\n      <td>1</td>\n      <td>5.000000</td>\n      <td>5.00</td>\n      <td>0.000000</td>\n      <td>5</td>\n      <td>5</td>\n      <td>0</td>\n      <td>5</td>\n      <td>5</td>\n      <td>0</td>\n    </tr>\n    <tr>\n      <th>4</th>\n      <td>0</td>\n      <td>55</td>\n      <td>15</td>\n      <td>0</td>\n      <td>0</td>\n      <td>0</td>\n      <td>2</td>\n      <td>2</td>\n      <td>0</td>\n      <td>0</td>\n      <td>...</td>\n      <td>6</td>\n      <td>6.333333</td>\n      <td>5.00</td>\n      <td>7.000000</td>\n      <td>11</td>\n      <td>7</td>\n      <td>11</td>\n      <td>3</td>\n      <td>3</td>\n      <td>4</td>\n    </tr>\n    <tr>\n      <th>...</th>\n      <td>...</td>\n      <td>...</td>\n      <td>...</td>\n      <td>...</td>\n      <td>...</td>\n      <td>...</td>\n      <td>...</td>\n      <td>...</td>\n      <td>...</td>\n      <td>...</td>\n      <td>...</td>\n      <td>...</td>\n      <td>...</td>\n      <td>...</td>\n      <td>...</td>\n      <td>...</td>\n      <td>...</td>\n      <td>...</td>\n      <td>...</td>\n      <td>...</td>\n      <td>...</td>\n    </tr>\n    <tr>\n      <th>11425</th>\n      <td>0</td>\n      <td>45</td>\n      <td>17</td>\n      <td>0</td>\n      <td>0</td>\n      <td>0</td>\n      <td>0</td>\n      <td>2</td>\n      <td>0</td>\n      <td>0</td>\n      <td>...</td>\n      <td>4</td>\n      <td>7.750000</td>\n      <td>6.00</td>\n      <td>9.500000</td>\n      <td>11</td>\n      <td>9</td>\n      <td>11</td>\n      <td>3</td>\n      <td>3</td>\n      <td>8</td>\n    </tr>\n    <tr>\n      <th>11426</th>\n      <td>0</td>\n      <td>84</td>\n      <td>18</td>\n      <td>0</td>\n      <td>1</td>\n      <td>1</td>\n      <td>0</td>\n      <td>5</td>\n      <td>0</td>\n      <td>0</td>\n      <td>...</td>\n      <td>12</td>\n      <td>5.166667</td>\n      <td>6.50</td>\n      <td>4.900000</td>\n      <td>10</td>\n      <td>10</td>\n      <td>8</td>\n      <td>3</td>\n      <td>3</td>\n      <td>3</td>\n    </tr>\n    <tr>\n      <th>11427</th>\n      <td>0</td>\n      <td>105</td>\n      <td>16</td>\n      <td>0</td>\n      <td>0</td>\n      <td>1</td>\n      <td>6</td>\n      <td>2</td>\n      <td>0</td>\n      <td>0</td>\n      <td>...</td>\n      <td>13</td>\n      <td>6.153846</td>\n      <td>5.50</td>\n      <td>6.272727</td>\n      <td>15</td>\n      <td>8</td>\n      <td>15</td>\n      <td>1</td>\n      <td>3</td>\n      <td>1</td>\n    </tr>\n    <tr>\n      <th>11428</th>\n      <td>0</td>\n      <td>38</td>\n      <td>30</td>\n      <td>0</td>\n      <td>0</td>\n      <td>0</td>\n      <td>0</td>\n      <td>2</td>\n      <td>0</td>\n      <td>0</td>\n      <td>...</td>\n      <td>2</td>\n      <td>12.500000</td>\n      <td>12.50</td>\n      <td>0.000000</td>\n      <td>22</td>\n      <td>22</td>\n      <td>0</td>\n      <td>3</td>\n      <td>3</td>\n      <td>0</td>\n    </tr>\n    <tr>\n      <th>11429</th>\n      <td>1</td>\n      <td>477</td>\n      <td>14</td>\n      <td>0</td>\n      <td>1</td>\n      <td>1</td>\n      <td>0</td>\n      <td>24</td>\n      <td>0</td>\n      <td>9</td>\n      <td>...</td>\n      <td>90</td>\n      <td>4.377778</td>\n      <td>2.75</td>\n      <td>4.453488</td>\n      <td>12</td>\n      <td>3</td>\n      <td>12</td>\n      <td>1</td>\n      <td>2</td>\n      <td>1</td>\n    </tr>\n  </tbody>\n</table>\n<p>11430 rows × 43 columns</p>\n</div>"
     },
     "execution_count": 13,
     "metadata": {},
     "output_type": "execute_result"
    }
   ]
  },
  {
   "cell_type": "code",
   "source": [
    "y"
   ],
   "metadata": {
    "colab": {
     "base_uri": "https://localhost:8080/"
    },
    "id": "OnsC8UFE4fQB",
    "outputId": "d3d41e99-6583-4c28-fe4d-a936eb9bddfa",
    "ExecuteTime": {
     "end_time": "2024-01-26T15:48:55.678763542Z",
     "start_time": "2024-01-26T15:48:55.539955902Z"
    }
   },
   "execution_count": 14,
   "outputs": [
    {
     "data": {
      "text/plain": "0        legitimate\n1          phishing\n2          phishing\n3        legitimate\n4        legitimate\n            ...    \n11425    legitimate\n11426      phishing\n11427    legitimate\n11428    legitimate\n11429      phishing\nName: status, Length: 11430, dtype: object"
     },
     "execution_count": 14,
     "metadata": {},
     "output_type": "execute_result"
    }
   ]
  },
  {
   "cell_type": "code",
   "source": [
    "from sklearn.preprocessing import LabelEncoder"
   ],
   "metadata": {
    "id": "40RRzaasFsVa",
    "ExecuteTime": {
     "end_time": "2024-01-26T15:48:57.124743940Z",
     "start_time": "2024-01-26T15:48:57.065526017Z"
    }
   },
   "execution_count": 15,
   "outputs": []
  },
  {
   "cell_type": "code",
   "source": [
    "le = LabelEncoder()\n",
    "y = le.fit_transform(y)"
   ],
   "metadata": {
    "id": "B_-9-6b3EkTF",
    "ExecuteTime": {
     "end_time": "2024-01-26T15:48:58.190650486Z",
     "start_time": "2024-01-26T15:48:58.102728131Z"
    }
   },
   "execution_count": 16,
   "outputs": []
  },
  {
   "cell_type": "code",
   "source": [
    "y"
   ],
   "metadata": {
    "colab": {
     "base_uri": "https://localhost:8080/"
    },
    "id": "j8iuskq1E_QY",
    "outputId": "aa71b5a0-4e29-43d5-a8f4-7bc8415c13aa",
    "ExecuteTime": {
     "end_time": "2024-01-26T15:49:00.080575673Z",
     "start_time": "2024-01-26T15:48:59.949171901Z"
    }
   },
   "execution_count": 17,
   "outputs": [
    {
     "data": {
      "text/plain": "array([0, 1, 1, ..., 0, 0, 1])"
     },
     "execution_count": 17,
     "metadata": {},
     "output_type": "execute_result"
    }
   ]
  },
  {
   "cell_type": "markdown",
   "source": [
    "#Train model"
   ],
   "metadata": {
    "id": "vRbst4sqCTby"
   }
  },
  {
   "cell_type": "code",
   "source": [
    "X_train, X_test, y_train, y_test = train_test_split(X, y, test_size=0.2, random_state=41)"
   ],
   "metadata": {
    "id": "URbhrjXW3q0a",
    "ExecuteTime": {
     "end_time": "2024-01-26T15:49:03.160886571Z",
     "start_time": "2024-01-26T15:49:02.937365515Z"
    }
   },
   "execution_count": 18,
   "outputs": []
  },
  {
   "cell_type": "code",
   "source": [
    "X_train"
   ],
   "metadata": {
    "colab": {
     "base_uri": "https://localhost:8080/",
     "height": 444
    },
    "id": "L7NNDpiqLTTd",
    "outputId": "42c07de8-d948-4bce-8e5b-2c62e59921ff",
    "ExecuteTime": {
     "end_time": "2024-01-26T15:49:04.998067668Z",
     "start_time": "2024-01-26T15:49:04.902220150Z"
    }
   },
   "execution_count": 19,
   "outputs": [
    {
     "data": {
      "text/plain": "      is_ip  length_url  length_hostname  tiny_url  countAtSign  \\\n6802      0          27               14         0            0   \n4794      0          44               23         0            0   \n6363      0          24               15         0            0   \n7566      0          53               14         0            0   \n7828      0          50               22         0            0   \n...     ...         ...              ...       ...          ...   \n8513      0          28               19         0            0   \n5200      0          48               35         0            0   \n4066      0          26               18         0            0   \n931       0          55               30         0            0   \n1984      0          96                7         0            0   \n\n      countQuestionMark  countHyphen  countDot  countComma  countSemicolon  \\\n6802                  0            0         2           0               0   \n4794                  0            0         2           0               0   \n6363                  0            0         2           0               0   \n7566                  0            3         2           0               0   \n7828                  0            0         3           0               0   \n...                 ...          ...       ...         ...             ...   \n8513                  0            0         2           0               0   \n5200                  1            3         2           0               0   \n4066                  0            0         2           0               0   \n931                   0            1         3           0               0   \n1984                  1            0         3           0               0   \n\n      ...  length_word_raw  avg_row_words  avg_row_words_host  \\\n6802  ...                3       4.333333                 4.5   \n4794  ...                4       7.500000                 9.5   \n6363  ...                2       5.000000                 5.0   \n7566  ...                6       5.833333                 4.5   \n7828  ...                6       5.666667                 8.5   \n...   ...              ...            ...                 ...   \n8513  ...                2       7.000000                 7.0   \n5200  ...                7       4.285714                 5.6   \n4066  ...                2       6.500000                 6.5   \n931   ...                5       7.800000                 8.0   \n1984  ...               13       5.538462                 4.0   \n\n      avg_row_words_path  longest_words_raw  longest_word_host  \\\n6802            4.000000                  6                  6   \n4794            5.500000                 12                 12   \n6363            0.000000                  7                  7   \n7566            6.500000                 10                  6   \n7828            4.250000                 11                 11   \n...                  ...                ...                ...   \n8513            0.000000                 11                 11   \n5200            1.000000                  8                  8   \n4066            0.000000                 10                 10   \n931             7.500000                 13                 13   \n1984            5.666667                 22                  4   \n\n      longest_word_path  shortest_words_raw  shortest_word_host  \\\n6802                  4                   3                   3   \n4794                  7                   4                   7   \n6363                  0                   3                   3   \n7566                 10                   3                   3   \n7828                  7                   3                   6   \n...                 ...                 ...                 ...   \n8513                  0                   3                   3   \n5200                  1                   1                   3   \n4066                  0                   3                   3   \n931                  13                   2                   5   \n1984                 22                   2                   4   \n\n      shortest_word_path  \n6802                   4  \n4794                   4  \n6363                   0  \n7566                   4  \n7828                   3  \n...                  ...  \n8513                   0  \n5200                   1  \n4066                   0  \n931                    2  \n1984                   2  \n\n[9144 rows x 43 columns]",
      "text/html": "<div>\n<style scoped>\n    .dataframe tbody tr th:only-of-type {\n        vertical-align: middle;\n    }\n\n    .dataframe tbody tr th {\n        vertical-align: top;\n    }\n\n    .dataframe thead th {\n        text-align: right;\n    }\n</style>\n<table border=\"1\" class=\"dataframe\">\n  <thead>\n    <tr style=\"text-align: right;\">\n      <th></th>\n      <th>is_ip</th>\n      <th>length_url</th>\n      <th>length_hostname</th>\n      <th>tiny_url</th>\n      <th>countAtSign</th>\n      <th>countQuestionMark</th>\n      <th>countHyphen</th>\n      <th>countDot</th>\n      <th>countComma</th>\n      <th>countSemicolon</th>\n      <th>...</th>\n      <th>length_word_raw</th>\n      <th>avg_row_words</th>\n      <th>avg_row_words_host</th>\n      <th>avg_row_words_path</th>\n      <th>longest_words_raw</th>\n      <th>longest_word_host</th>\n      <th>longest_word_path</th>\n      <th>shortest_words_raw</th>\n      <th>shortest_word_host</th>\n      <th>shortest_word_path</th>\n    </tr>\n  </thead>\n  <tbody>\n    <tr>\n      <th>6802</th>\n      <td>0</td>\n      <td>27</td>\n      <td>14</td>\n      <td>0</td>\n      <td>0</td>\n      <td>0</td>\n      <td>0</td>\n      <td>2</td>\n      <td>0</td>\n      <td>0</td>\n      <td>...</td>\n      <td>3</td>\n      <td>4.333333</td>\n      <td>4.5</td>\n      <td>4.000000</td>\n      <td>6</td>\n      <td>6</td>\n      <td>4</td>\n      <td>3</td>\n      <td>3</td>\n      <td>4</td>\n    </tr>\n    <tr>\n      <th>4794</th>\n      <td>0</td>\n      <td>44</td>\n      <td>23</td>\n      <td>0</td>\n      <td>0</td>\n      <td>0</td>\n      <td>0</td>\n      <td>2</td>\n      <td>0</td>\n      <td>0</td>\n      <td>...</td>\n      <td>4</td>\n      <td>7.500000</td>\n      <td>9.5</td>\n      <td>5.500000</td>\n      <td>12</td>\n      <td>12</td>\n      <td>7</td>\n      <td>4</td>\n      <td>7</td>\n      <td>4</td>\n    </tr>\n    <tr>\n      <th>6363</th>\n      <td>0</td>\n      <td>24</td>\n      <td>15</td>\n      <td>0</td>\n      <td>0</td>\n      <td>0</td>\n      <td>0</td>\n      <td>2</td>\n      <td>0</td>\n      <td>0</td>\n      <td>...</td>\n      <td>2</td>\n      <td>5.000000</td>\n      <td>5.0</td>\n      <td>0.000000</td>\n      <td>7</td>\n      <td>7</td>\n      <td>0</td>\n      <td>3</td>\n      <td>3</td>\n      <td>0</td>\n    </tr>\n    <tr>\n      <th>7566</th>\n      <td>0</td>\n      <td>53</td>\n      <td>14</td>\n      <td>0</td>\n      <td>0</td>\n      <td>0</td>\n      <td>3</td>\n      <td>2</td>\n      <td>0</td>\n      <td>0</td>\n      <td>...</td>\n      <td>6</td>\n      <td>5.833333</td>\n      <td>4.5</td>\n      <td>6.500000</td>\n      <td>10</td>\n      <td>6</td>\n      <td>10</td>\n      <td>3</td>\n      <td>3</td>\n      <td>4</td>\n    </tr>\n    <tr>\n      <th>7828</th>\n      <td>0</td>\n      <td>50</td>\n      <td>22</td>\n      <td>0</td>\n      <td>0</td>\n      <td>0</td>\n      <td>0</td>\n      <td>3</td>\n      <td>0</td>\n      <td>0</td>\n      <td>...</td>\n      <td>6</td>\n      <td>5.666667</td>\n      <td>8.5</td>\n      <td>4.250000</td>\n      <td>11</td>\n      <td>11</td>\n      <td>7</td>\n      <td>3</td>\n      <td>6</td>\n      <td>3</td>\n    </tr>\n    <tr>\n      <th>...</th>\n      <td>...</td>\n      <td>...</td>\n      <td>...</td>\n      <td>...</td>\n      <td>...</td>\n      <td>...</td>\n      <td>...</td>\n      <td>...</td>\n      <td>...</td>\n      <td>...</td>\n      <td>...</td>\n      <td>...</td>\n      <td>...</td>\n      <td>...</td>\n      <td>...</td>\n      <td>...</td>\n      <td>...</td>\n      <td>...</td>\n      <td>...</td>\n      <td>...</td>\n      <td>...</td>\n    </tr>\n    <tr>\n      <th>8513</th>\n      <td>0</td>\n      <td>28</td>\n      <td>19</td>\n      <td>0</td>\n      <td>0</td>\n      <td>0</td>\n      <td>0</td>\n      <td>2</td>\n      <td>0</td>\n      <td>0</td>\n      <td>...</td>\n      <td>2</td>\n      <td>7.000000</td>\n      <td>7.0</td>\n      <td>0.000000</td>\n      <td>11</td>\n      <td>11</td>\n      <td>0</td>\n      <td>3</td>\n      <td>3</td>\n      <td>0</td>\n    </tr>\n    <tr>\n      <th>5200</th>\n      <td>0</td>\n      <td>48</td>\n      <td>35</td>\n      <td>0</td>\n      <td>0</td>\n      <td>1</td>\n      <td>3</td>\n      <td>2</td>\n      <td>0</td>\n      <td>0</td>\n      <td>...</td>\n      <td>7</td>\n      <td>4.285714</td>\n      <td>5.6</td>\n      <td>1.000000</td>\n      <td>8</td>\n      <td>8</td>\n      <td>1</td>\n      <td>1</td>\n      <td>3</td>\n      <td>1</td>\n    </tr>\n    <tr>\n      <th>4066</th>\n      <td>0</td>\n      <td>26</td>\n      <td>18</td>\n      <td>0</td>\n      <td>0</td>\n      <td>0</td>\n      <td>0</td>\n      <td>2</td>\n      <td>0</td>\n      <td>0</td>\n      <td>...</td>\n      <td>2</td>\n      <td>6.500000</td>\n      <td>6.5</td>\n      <td>0.000000</td>\n      <td>10</td>\n      <td>10</td>\n      <td>0</td>\n      <td>3</td>\n      <td>3</td>\n      <td>0</td>\n    </tr>\n    <tr>\n      <th>931</th>\n      <td>0</td>\n      <td>55</td>\n      <td>30</td>\n      <td>0</td>\n      <td>0</td>\n      <td>0</td>\n      <td>1</td>\n      <td>3</td>\n      <td>0</td>\n      <td>0</td>\n      <td>...</td>\n      <td>5</td>\n      <td>7.800000</td>\n      <td>8.0</td>\n      <td>7.500000</td>\n      <td>13</td>\n      <td>13</td>\n      <td>13</td>\n      <td>2</td>\n      <td>5</td>\n      <td>2</td>\n    </tr>\n    <tr>\n      <th>1984</th>\n      <td>0</td>\n      <td>96</td>\n      <td>7</td>\n      <td>0</td>\n      <td>0</td>\n      <td>1</td>\n      <td>0</td>\n      <td>3</td>\n      <td>0</td>\n      <td>0</td>\n      <td>...</td>\n      <td>13</td>\n      <td>5.538462</td>\n      <td>4.0</td>\n      <td>5.666667</td>\n      <td>22</td>\n      <td>4</td>\n      <td>22</td>\n      <td>2</td>\n      <td>4</td>\n      <td>2</td>\n    </tr>\n  </tbody>\n</table>\n<p>9144 rows × 43 columns</p>\n</div>"
     },
     "execution_count": 19,
     "metadata": {},
     "output_type": "execute_result"
    }
   ]
  },
  {
   "cell_type": "code",
   "source": [
    "y_train"
   ],
   "metadata": {
    "colab": {
     "base_uri": "https://localhost:8080/"
    },
    "id": "wg3wMp7NL4jR",
    "outputId": "291ebb4c-d282-4162-a464-6f12767eef59",
    "ExecuteTime": {
     "end_time": "2024-01-26T15:49:07.213295275Z",
     "start_time": "2024-01-26T15:49:07.097609750Z"
    }
   },
   "execution_count": 20,
   "outputs": [
    {
     "data": {
      "text/plain": "array([0, 1, 0, ..., 0, 1, 1])"
     },
     "execution_count": 20,
     "metadata": {},
     "output_type": "execute_result"
    }
   ]
  },
  {
   "cell_type": "markdown",
   "source": [
    "#Store result"
   ],
   "metadata": {
    "id": "nEwnRDM-Ud7q"
   }
  },
  {
   "cell_type": "code",
   "source": [
    "model_list = []\n",
    "accuracy_list = []\n",
    "f1_score_list = []\n",
    "recall_list = []\n",
    "precision_list = []\n",
    "\n",
    "def set_result(model, acc, f1, recall, precision):\n",
    "  model_list.append(model)\n",
    "  accuracy_list.append(round(acc,3))\n",
    "  f1_score_list.append(round(f1,3))\n",
    "  recall_list.append(round(recall,3))\n",
    "  precision_list.append(round(precision,3))"
   ],
   "metadata": {
    "id": "NU20LupiUgo3",
    "ExecuteTime": {
     "end_time": "2024-01-26T15:49:09.538702598Z",
     "start_time": "2024-01-26T15:49:09.471834640Z"
    }
   },
   "execution_count": 21,
   "outputs": []
  },
  {
   "cell_type": "markdown",
   "source": [
    "#Random Forest"
   ],
   "metadata": {
    "id": "GpwmG_7cKfhk"
   }
  },
  {
   "cell_type": "code",
   "source": [
    "randomForest = RandomForestClassifier()\n",
    "model_rf = randomForest.fit(X_train, y_train)"
   ],
   "metadata": {
    "id": "jEX1b8I55UtX",
    "ExecuteTime": {
     "end_time": "2024-01-26T15:49:14.714587575Z",
     "start_time": "2024-01-26T15:49:12.677609623Z"
    }
   },
   "execution_count": 22,
   "outputs": []
  },
  {
   "cell_type": "code",
   "source": [
    "rf_predict = model_rf.predict(X_test)"
   ],
   "metadata": {
    "id": "od_JMmmZ7KQU",
    "ExecuteTime": {
     "end_time": "2024-01-26T15:49:44.381710800Z",
     "start_time": "2024-01-26T15:49:44.294879092Z"
    }
   },
   "execution_count": 23,
   "outputs": []
  },
  {
   "cell_type": "code",
   "source": [
    "pd.DataFrame({'y_test': y_test, 'predict': rf_predict})"
   ],
   "metadata": {
    "colab": {
     "base_uri": "https://localhost:8080/",
     "height": 424
    },
    "id": "ApTKQHFEk9C6",
    "outputId": "0e8c62d1-8397-43fe-a887-b6420a1042fa",
    "ExecuteTime": {
     "end_time": "2024-01-26T15:49:45.470857084Z",
     "start_time": "2024-01-26T15:49:45.439049121Z"
    }
   },
   "execution_count": 24,
   "outputs": [
    {
     "data": {
      "text/plain": "      y_test  predict\n0          1        1\n1          0        0\n2          1        0\n3          0        0\n4          0        1\n...      ...      ...\n2281       1        1\n2282       1        1\n2283       0        0\n2284       1        0\n2285       1        1\n\n[2286 rows x 2 columns]",
      "text/html": "<div>\n<style scoped>\n    .dataframe tbody tr th:only-of-type {\n        vertical-align: middle;\n    }\n\n    .dataframe tbody tr th {\n        vertical-align: top;\n    }\n\n    .dataframe thead th {\n        text-align: right;\n    }\n</style>\n<table border=\"1\" class=\"dataframe\">\n  <thead>\n    <tr style=\"text-align: right;\">\n      <th></th>\n      <th>y_test</th>\n      <th>predict</th>\n    </tr>\n  </thead>\n  <tbody>\n    <tr>\n      <th>0</th>\n      <td>1</td>\n      <td>1</td>\n    </tr>\n    <tr>\n      <th>1</th>\n      <td>0</td>\n      <td>0</td>\n    </tr>\n    <tr>\n      <th>2</th>\n      <td>1</td>\n      <td>0</td>\n    </tr>\n    <tr>\n      <th>3</th>\n      <td>0</td>\n      <td>0</td>\n    </tr>\n    <tr>\n      <th>4</th>\n      <td>0</td>\n      <td>1</td>\n    </tr>\n    <tr>\n      <th>...</th>\n      <td>...</td>\n      <td>...</td>\n    </tr>\n    <tr>\n      <th>2281</th>\n      <td>1</td>\n      <td>1</td>\n    </tr>\n    <tr>\n      <th>2282</th>\n      <td>1</td>\n      <td>1</td>\n    </tr>\n    <tr>\n      <th>2283</th>\n      <td>0</td>\n      <td>0</td>\n    </tr>\n    <tr>\n      <th>2284</th>\n      <td>1</td>\n      <td>0</td>\n    </tr>\n    <tr>\n      <th>2285</th>\n      <td>1</td>\n      <td>1</td>\n    </tr>\n  </tbody>\n</table>\n<p>2286 rows × 2 columns</p>\n</div>"
     },
     "execution_count": 24,
     "metadata": {},
     "output_type": "execute_result"
    }
   ]
  },
  {
   "cell_type": "code",
   "source": [
    "acc_score_rf = accuracy_score(rf_predict, y_test)\n",
    "f1_score_rf = f1_score(rf_predict, y_test)\n",
    "recall_score_rf = recall_score(rf_predict, y_test)\n",
    "precision_score_rf = precision_score(rf_predict, y_test)"
   ],
   "metadata": {
    "id": "uasqlHdd7Q1n",
    "ExecuteTime": {
     "end_time": "2024-01-26T15:49:56.328700080Z",
     "start_time": "2024-01-26T15:49:56.262371455Z"
    }
   },
   "execution_count": 25,
   "outputs": []
  },
  {
   "cell_type": "code",
   "source": [
    "print(classification_report(rf_predict, y_test))"
   ],
   "metadata": {
    "colab": {
     "base_uri": "https://localhost:8080/"
    },
    "id": "JFWjCQEF85Ls",
    "outputId": "3e43e1d2-03a8-4467-80bd-41428fa63898",
    "ExecuteTime": {
     "end_time": "2024-01-26T15:49:57.799780595Z",
     "start_time": "2024-01-26T15:49:57.706036685Z"
    }
   },
   "execution_count": 26,
   "outputs": [
    {
     "name": "stdout",
     "output_type": "stream",
     "text": [
      "              precision    recall  f1-score   support\n",
      "\n",
      "           0       0.95      0.95      0.95      1095\n",
      "           1       0.95      0.96      0.95      1191\n",
      "\n",
      "    accuracy                           0.95      2286\n",
      "   macro avg       0.95      0.95      0.95      2286\n",
      "weighted avg       0.95      0.95      0.95      2286\n"
     ]
    }
   ]
  },
  {
   "cell_type": "code",
   "source": [
    "set_result('RF', acc_score_rf, f1_score_rf, recall_score_rf, precision_score_rf)"
   ],
   "metadata": {
    "id": "2E5SDfoZVwqU",
    "ExecuteTime": {
     "end_time": "2024-01-26T15:50:06.920043652Z",
     "start_time": "2024-01-26T15:50:06.800171814Z"
    }
   },
   "execution_count": 27,
   "outputs": []
  },
  {
   "cell_type": "markdown",
   "source": [
    "#DescisionTree"
   ],
   "metadata": {
    "id": "JvzsOk3flptx"
   }
  },
  {
   "cell_type": "code",
   "source": [
    "dt = DecisionTreeClassifier()"
   ],
   "metadata": {
    "id": "IKlh7bWnlpJk",
    "ExecuteTime": {
     "end_time": "2024-01-26T15:50:08.762916660Z",
     "start_time": "2024-01-26T15:50:08.716319915Z"
    }
   },
   "execution_count": 28,
   "outputs": []
  },
  {
   "cell_type": "code",
   "source": [
    "dt_model = dt.fit(X_train, y_train)"
   ],
   "metadata": {
    "id": "-jxV_jVol0OF",
    "ExecuteTime": {
     "end_time": "2024-01-26T15:50:09.821445491Z",
     "start_time": "2024-01-26T15:50:09.643975054Z"
    }
   },
   "execution_count": 29,
   "outputs": []
  },
  {
   "cell_type": "code",
   "source": [
    "dt_predict = dt_model.predict(X_test)"
   ],
   "metadata": {
    "id": "pEWfGYzIl6gd",
    "ExecuteTime": {
     "end_time": "2024-01-26T15:50:10.680085408Z",
     "start_time": "2024-01-26T15:50:10.627987326Z"
    }
   },
   "execution_count": 30,
   "outputs": []
  },
  {
   "cell_type": "code",
   "source": [
    "pd.DataFrame({'y_test': y_test, 'predict': dt_predict})"
   ],
   "metadata": {
    "colab": {
     "base_uri": "https://localhost:8080/"
    },
    "id": "L2g1dXpfmFAQ",
    "outputId": "baba1b5c-d541-48bc-d8de-93567000f93a",
    "ExecuteTime": {
     "end_time": "2024-01-26T15:50:12.269380845Z",
     "start_time": "2024-01-26T15:50:12.173346576Z"
    }
   },
   "execution_count": 31,
   "outputs": [
    {
     "data": {
      "text/plain": "      y_test  predict\n0          1        0\n1          0        0\n2          1        0\n3          0        0\n4          0        1\n...      ...      ...\n2281       1        1\n2282       1        1\n2283       0        0\n2284       1        0\n2285       1        1\n\n[2286 rows x 2 columns]",
      "text/html": "<div>\n<style scoped>\n    .dataframe tbody tr th:only-of-type {\n        vertical-align: middle;\n    }\n\n    .dataframe tbody tr th {\n        vertical-align: top;\n    }\n\n    .dataframe thead th {\n        text-align: right;\n    }\n</style>\n<table border=\"1\" class=\"dataframe\">\n  <thead>\n    <tr style=\"text-align: right;\">\n      <th></th>\n      <th>y_test</th>\n      <th>predict</th>\n    </tr>\n  </thead>\n  <tbody>\n    <tr>\n      <th>0</th>\n      <td>1</td>\n      <td>0</td>\n    </tr>\n    <tr>\n      <th>1</th>\n      <td>0</td>\n      <td>0</td>\n    </tr>\n    <tr>\n      <th>2</th>\n      <td>1</td>\n      <td>0</td>\n    </tr>\n    <tr>\n      <th>3</th>\n      <td>0</td>\n      <td>0</td>\n    </tr>\n    <tr>\n      <th>4</th>\n      <td>0</td>\n      <td>1</td>\n    </tr>\n    <tr>\n      <th>...</th>\n      <td>...</td>\n      <td>...</td>\n    </tr>\n    <tr>\n      <th>2281</th>\n      <td>1</td>\n      <td>1</td>\n    </tr>\n    <tr>\n      <th>2282</th>\n      <td>1</td>\n      <td>1</td>\n    </tr>\n    <tr>\n      <th>2283</th>\n      <td>0</td>\n      <td>0</td>\n    </tr>\n    <tr>\n      <th>2284</th>\n      <td>1</td>\n      <td>0</td>\n    </tr>\n    <tr>\n      <th>2285</th>\n      <td>1</td>\n      <td>1</td>\n    </tr>\n  </tbody>\n</table>\n<p>2286 rows × 2 columns</p>\n</div>"
     },
     "execution_count": 31,
     "metadata": {},
     "output_type": "execute_result"
    }
   ]
  },
  {
   "cell_type": "code",
   "source": [
    "accuracy_score(dt_predict, y_test)"
   ],
   "metadata": {
    "colab": {
     "base_uri": "https://localhost:8080/"
    },
    "id": "LwbBnHZ7mBPj",
    "outputId": "da729789-b522-4d2c-af67-f499a2aeb0d1",
    "ExecuteTime": {
     "end_time": "2024-01-26T15:50:28.202895144Z",
     "start_time": "2024-01-26T15:50:28.103356985Z"
    }
   },
   "execution_count": 32,
   "outputs": [
    {
     "data": {
      "text/plain": "0.9216972878390202"
     },
     "execution_count": 32,
     "metadata": {},
     "output_type": "execute_result"
    }
   ]
  },
  {
   "cell_type": "code",
   "source": [
    "print(classification_report(dt_predict, y_test))"
   ],
   "metadata": {
    "id": "27PhW9RRmOsB",
    "outputId": "bd448c58-5856-4fb5-825c-c5ab23508462",
    "colab": {
     "base_uri": "https://localhost:8080/"
    },
    "ExecuteTime": {
     "end_time": "2024-01-26T15:51:56.241453926Z",
     "start_time": "2024-01-26T15:51:56.156470767Z"
    }
   },
   "execution_count": 33,
   "outputs": [
    {
     "name": "stdout",
     "output_type": "stream",
     "text": [
      "              precision    recall  f1-score   support\n",
      "\n",
      "           0       0.93      0.91      0.92      1118\n",
      "           1       0.91      0.93      0.92      1168\n",
      "\n",
      "    accuracy                           0.92      2286\n",
      "   macro avg       0.92      0.92      0.92      2286\n",
      "weighted avg       0.92      0.92      0.92      2286\n"
     ]
    }
   ]
  },
  {
   "cell_type": "code",
   "source": [
    "acc_score_dt = accuracy_score(dt_predict, y_test)\n",
    "f1_score_dt = f1_score(dt_predict, y_test)\n",
    "recall_score_dt = recall_score(dt_predict, y_test)\n",
    "precision_score_dt = precision_score(dt_predict, y_test)\n",
    "\n",
    "set_result('DT', acc_score_dt, f1_score_dt,\n",
    "           recall_score_dt, precision_score_dt)"
   ],
   "metadata": {
    "id": "gYwjriBoX9FQ",
    "ExecuteTime": {
     "end_time": "2024-01-26T15:52:00.673067641Z",
     "start_time": "2024-01-26T15:52:00.568462002Z"
    }
   },
   "execution_count": 34,
   "outputs": []
  },
  {
   "cell_type": "markdown",
   "source": [
    "#Logistic Regression"
   ],
   "metadata": {
    "id": "VWajaNoBNe15"
   }
  },
  {
   "cell_type": "code",
   "source": [
    "logistic = LogisticRegression()\n",
    "lg_model = logistic.fit(X_train, y_train)"
   ],
   "metadata": {
    "colab": {
     "base_uri": "https://localhost:8080/"
    },
    "id": "vgojBn8cOitB",
    "outputId": "6132ab7e-b366-4156-8f1d-5e634746b4b4",
    "ExecuteTime": {
     "end_time": "2024-01-26T15:52:04.159267582Z",
     "start_time": "2024-01-26T15:52:03.715388852Z"
    }
   },
   "execution_count": 35,
   "outputs": [
    {
     "name": "stderr",
     "output_type": "stream",
     "text": [
      "/usr/local/lib/python3.8/dist-packages/sklearn/linear_model/_logistic.py:460: ConvergenceWarning: lbfgs failed to converge (status=1):\n",
      "STOP: TOTAL NO. of ITERATIONS REACHED LIMIT.\n",
      "\n",
      "Increase the number of iterations (max_iter) or scale the data as shown in:\n",
      "    https://scikit-learn.org/stable/modules/preprocessing.html\n",
      "Please also refer to the documentation for alternative solver options:\n",
      "    https://scikit-learn.org/stable/modules/linear_model.html#logistic-regression\n",
      "  n_iter_i = _check_optimize_result(\n"
     ]
    }
   ]
  },
  {
   "cell_type": "code",
   "source": [
    "lg_predic = lg_model.predict(X_test)"
   ],
   "metadata": {
    "id": "3SbCYfCeKd8v",
    "ExecuteTime": {
     "end_time": "2024-01-26T15:52:05.882537389Z",
     "start_time": "2024-01-26T15:52:05.716050109Z"
    }
   },
   "execution_count": 36,
   "outputs": []
  },
  {
   "cell_type": "code",
   "source": [
    "accuracy_score(lg_predic, y_test)"
   ],
   "metadata": {
    "colab": {
     "base_uri": "https://localhost:8080/"
    },
    "id": "FKzE0kLZPH-r",
    "outputId": "26247ac2-da0d-4a44-c6cb-488c99c971f6",
    "ExecuteTime": {
     "end_time": "2024-01-26T15:52:07.282490783Z",
     "start_time": "2024-01-26T15:52:07.218363610Z"
    }
   },
   "execution_count": 37,
   "outputs": [
    {
     "data": {
      "text/plain": "0.8814523184601925"
     },
     "execution_count": 37,
     "metadata": {},
     "output_type": "execute_result"
    }
   ]
  },
  {
   "cell_type": "code",
   "source": [
    "print(classification_report(dt_predict, y_test))"
   ],
   "metadata": {
    "colab": {
     "base_uri": "https://localhost:8080/"
    },
    "id": "L8E193fFPNe_",
    "outputId": "56617927-16cb-428f-9dab-7cba583669dd",
    "ExecuteTime": {
     "end_time": "2024-01-26T15:52:08.393050188Z",
     "start_time": "2024-01-26T15:52:08.325799523Z"
    }
   },
   "execution_count": 38,
   "outputs": [
    {
     "name": "stdout",
     "output_type": "stream",
     "text": [
      "              precision    recall  f1-score   support\n",
      "\n",
      "           0       0.93      0.91      0.92      1118\n",
      "           1       0.91      0.93      0.92      1168\n",
      "\n",
      "    accuracy                           0.92      2286\n",
      "   macro avg       0.92      0.92      0.92      2286\n",
      "weighted avg       0.92      0.92      0.92      2286\n"
     ]
    }
   ]
  },
  {
   "cell_type": "code",
   "source": [
    "acc_score_lg = accuracy_score(lg_predic, y_test)\n",
    "f1_score_lg = f1_score(lg_predic, y_test)\n",
    "recall_score_lg = recall_score(lg_predic, y_test)\n",
    "precision_score_lg = precision_score(lg_predic, y_test)\n",
    "\n",
    "set_result('LGR', acc_score_lg, f1_score_lg,\n",
    "           recall_score_lg, precision_score_lg)"
   ],
   "metadata": {
    "id": "Zu3A4FI7YUo9",
    "ExecuteTime": {
     "end_time": "2024-01-26T15:52:10.087268427Z",
     "start_time": "2024-01-26T15:52:09.979715926Z"
    }
   },
   "execution_count": 39,
   "outputs": []
  },
  {
   "cell_type": "markdown",
   "source": [
    "#KNN"
   ],
   "metadata": {
    "id": "Dq2HhgoIPY3l"
   }
  },
  {
   "cell_type": "code",
   "source": [
    "knn = KNeighborsClassifier(n_neighbors=10)\n",
    "knn_model = knn.fit(X_train, y_train)"
   ],
   "metadata": {
    "id": "mCZHN5AePQ-9",
    "ExecuteTime": {
     "end_time": "2024-01-26T15:52:11.725016766Z",
     "start_time": "2024-01-26T15:52:11.683117422Z"
    }
   },
   "execution_count": 40,
   "outputs": []
  },
  {
   "cell_type": "code",
   "source": [
    "knn_predict = knn_model.predict(X_test)"
   ],
   "metadata": {
    "id": "vrgdZydMPiNv",
    "ExecuteTime": {
     "end_time": "2024-01-26T15:52:13.049972527Z",
     "start_time": "2024-01-26T15:52:12.617684488Z"
    }
   },
   "execution_count": 41,
   "outputs": []
  },
  {
   "cell_type": "code",
   "source": [
    "accuracy_score(knn_predict, y_test)"
   ],
   "metadata": {
    "colab": {
     "base_uri": "https://localhost:8080/"
    },
    "id": "QZkDbasJPqTq",
    "outputId": "4feefe7e-625e-417d-9976-09fc5eb3e2d7",
    "ExecuteTime": {
     "end_time": "2024-01-26T15:52:13.475713479Z",
     "start_time": "2024-01-26T15:52:13.417942686Z"
    }
   },
   "execution_count": 42,
   "outputs": [
    {
     "data": {
      "text/plain": "0.8237095363079615"
     },
     "execution_count": 42,
     "metadata": {},
     "output_type": "execute_result"
    }
   ]
  },
  {
   "cell_type": "code",
   "source": [
    "print(classification_report(knn_predict, y_test))"
   ],
   "metadata": {
    "colab": {
     "base_uri": "https://localhost:8080/"
    },
    "id": "r7ksoMIzQaka",
    "outputId": "8ee1f1ce-d294-409a-9c00-96fa8a6113a7",
    "ExecuteTime": {
     "end_time": "2024-01-26T15:52:14.448932262Z",
     "start_time": "2024-01-26T15:52:14.370322328Z"
    }
   },
   "execution_count": 43,
   "outputs": [
    {
     "name": "stdout",
     "output_type": "stream",
     "text": [
      "              precision    recall  f1-score   support\n",
      "\n",
      "           0       0.87      0.78      0.83      1212\n",
      "           1       0.78      0.87      0.82      1074\n",
      "\n",
      "    accuracy                           0.82      2286\n",
      "   macro avg       0.83      0.83      0.82      2286\n",
      "weighted avg       0.83      0.82      0.82      2286\n"
     ]
    }
   ]
  },
  {
   "cell_type": "code",
   "source": [
    "acc_score_knn = accuracy_score(knn_predict, y_test)\n",
    "f1_score_knn = f1_score(knn_predict, y_test)\n",
    "recall_score_knn = recall_score(knn_predict, y_test)\n",
    "precision_score_knn = precision_score(knn_predict, y_test)\n",
    "\n",
    "set_result('KNN', acc_score_knn, f1_score_knn,\n",
    "           recall_score_knn, precision_score_knn)"
   ],
   "metadata": {
    "id": "TtrAvqcEYkGA",
    "ExecuteTime": {
     "end_time": "2024-01-26T15:52:16.739272521Z",
     "start_time": "2024-01-26T15:52:16.606551241Z"
    }
   },
   "execution_count": 44,
   "outputs": []
  },
  {
   "cell_type": "markdown",
   "source": [
    "#Support vector machine"
   ],
   "metadata": {
    "id": "sPRNOpTBQZDN"
   }
  },
  {
   "cell_type": "code",
   "source": [
    "svc = SVC()\n",
    "svc_model = svc.fit(X_train, y_train)"
   ],
   "metadata": {
    "id": "gG0xvgD_QYZU",
    "ExecuteTime": {
     "end_time": "2024-01-26T15:52:23.797431610Z",
     "start_time": "2024-01-26T15:52:18.260849920Z"
    }
   },
   "execution_count": 45,
   "outputs": []
  },
  {
   "cell_type": "code",
   "source": [
    "svm_predict = svc_model.predict(X_test)"
   ],
   "metadata": {
    "id": "IVG1fRJsQxjb",
    "ExecuteTime": {
     "end_time": "2024-01-26T15:52:26.179016705Z",
     "start_time": "2024-01-26T15:52:24.611525037Z"
    }
   },
   "execution_count": 46,
   "outputs": []
  },
  {
   "cell_type": "code",
   "source": [
    "accuracy_score(svm_predict, y_test)"
   ],
   "metadata": {
    "colab": {
     "base_uri": "https://localhost:8080/"
    },
    "id": "RQyltk_UQ8nt",
    "outputId": "d991245f-49f2-488a-9cc9-ff7b339fabac",
    "ExecuteTime": {
     "end_time": "2024-01-26T15:52:26.942649542Z",
     "start_time": "2024-01-26T15:52:26.885971656Z"
    }
   },
   "execution_count": 47,
   "outputs": [
    {
     "data": {
      "text/plain": "0.7248468941382327"
     },
     "execution_count": 47,
     "metadata": {},
     "output_type": "execute_result"
    }
   ]
  },
  {
   "cell_type": "code",
   "source": [
    "print(classification_report(svm_predict, y_test))"
   ],
   "metadata": {
    "colab": {
     "base_uri": "https://localhost:8080/"
    },
    "id": "0BaGqrHWRIyP",
    "outputId": "c582d0c6-16ce-46f5-976f-b7ce4cf4fa9e",
    "ExecuteTime": {
     "end_time": "2024-01-26T15:52:28.168375586Z",
     "start_time": "2024-01-26T15:52:28.087291836Z"
    }
   },
   "execution_count": 48,
   "outputs": [
    {
     "name": "stdout",
     "output_type": "stream",
     "text": [
      "              precision    recall  f1-score   support\n",
      "\n",
      "           0       0.71      0.71      0.71      1086\n",
      "           1       0.74      0.74      0.74      1200\n",
      "\n",
      "    accuracy                           0.72      2286\n",
      "   macro avg       0.72      0.72      0.72      2286\n",
      "weighted avg       0.72      0.72      0.72      2286\n"
     ]
    }
   ]
  },
  {
   "cell_type": "code",
   "source": [
    "acc_score_svm = accuracy_score(svm_predict, y_test)\n",
    "f1_score_svm = f1_score(svm_predict, y_test)\n",
    "recall_score_svm = recall_score(svm_predict, y_test)\n",
    "precision_score_svm = precision_score(svm_predict, y_test)\n",
    "\n",
    "set_result('SVM', acc_score_svm, f1_score_svm,\n",
    "           recall_score_svm, precision_score_svm)"
   ],
   "metadata": {
    "id": "wHUcUj5aRMux",
    "ExecuteTime": {
     "end_time": "2024-01-26T15:52:29.396328662Z",
     "start_time": "2024-01-26T15:52:29.298091479Z"
    }
   },
   "execution_count": 49,
   "outputs": []
  },
  {
   "cell_type": "markdown",
   "source": [
    "#Naive Bayes"
   ],
   "metadata": {
    "id": "pQLoN22wCS-M"
   }
  },
  {
   "cell_type": "code",
   "source": [
    "nb = GaussianNB()\n",
    "nb_model = nb.fit(X_train, y_train)"
   ],
   "metadata": {
    "id": "8PgsQuqZCUeR",
    "ExecuteTime": {
     "end_time": "2024-01-26T15:52:31.143754571Z",
     "start_time": "2024-01-26T15:52:31.072368748Z"
    }
   },
   "execution_count": 50,
   "outputs": []
  },
  {
   "cell_type": "code",
   "source": [
    "nb_predict = nb_model.predict(X_test)"
   ],
   "metadata": {
    "id": "L0tNpNBFChQQ",
    "ExecuteTime": {
     "end_time": "2024-01-26T15:52:32.090378002Z",
     "start_time": "2024-01-26T15:52:32.039881338Z"
    }
   },
   "execution_count": 51,
   "outputs": []
  },
  {
   "cell_type": "code",
   "source": [
    "accuracy_score(nb_predict, y_test)"
   ],
   "metadata": {
    "colab": {
     "base_uri": "https://localhost:8080/"
    },
    "id": "3utoAqSOEFfz",
    "outputId": "5f425722-6abe-4a4a-f149-2857bb63e72c",
    "ExecuteTime": {
     "end_time": "2024-01-26T15:52:32.935398858Z",
     "start_time": "2024-01-26T15:52:32.897701985Z"
    }
   },
   "execution_count": 52,
   "outputs": [
    {
     "data": {
      "text/plain": "0.7300962379702537"
     },
     "execution_count": 52,
     "metadata": {},
     "output_type": "execute_result"
    }
   ]
  },
  {
   "cell_type": "code",
   "source": [
    "print(classification_report(nb_predict, y_test))"
   ],
   "metadata": {
    "colab": {
     "base_uri": "https://localhost:8080/"
    },
    "id": "yXRj0tC1EI-W",
    "outputId": "f7d27ca3-3865-4b0e-e2fc-04b7da214e36",
    "ExecuteTime": {
     "end_time": "2024-01-26T15:52:33.826546389Z",
     "start_time": "2024-01-26T15:52:33.751370277Z"
    }
   },
   "execution_count": 53,
   "outputs": [
    {
     "name": "stdout",
     "output_type": "stream",
     "text": [
      "              precision    recall  f1-score   support\n",
      "\n",
      "           0       0.97      0.64      0.77      1636\n",
      "           1       0.51      0.94      0.67       650\n",
      "\n",
      "    accuracy                           0.73      2286\n",
      "   macro avg       0.74      0.79      0.72      2286\n",
      "weighted avg       0.84      0.73      0.74      2286\n"
     ]
    }
   ]
  },
  {
   "cell_type": "code",
   "source": [
    "acc_score_nb = accuracy_score(nb_predict, y_test)\n",
    "f1_score_nb = f1_score(nb_predict, y_test)\n",
    "recall_score_nb = recall_score(nb_predict, y_test)\n",
    "precision_score_nb = precision_score(nb_predict, y_test)\n",
    "\n",
    "set_result('NB', acc_score_nb, f1_score_nb,\n",
    "           recall_score_nb, precision_score_nb)"
   ],
   "metadata": {
    "id": "E8WhbNckEMTN",
    "ExecuteTime": {
     "end_time": "2024-01-26T15:52:35.459594670Z",
     "start_time": "2024-01-26T15:52:35.318750789Z"
    }
   },
   "execution_count": 54,
   "outputs": []
  },
  {
   "cell_type": "markdown",
   "source": [
    "#Multi-layer perceptron classifier"
   ],
   "metadata": {
    "id": "i4vpPYdUGLZk"
   }
  },
  {
   "cell_type": "code",
   "source": [
    "mlp = MLPClassifier()\n",
    "mlp_model = mlp.fit(X_train, y_train)"
   ],
   "metadata": {
    "id": "R2F_vcH-GPGi",
    "ExecuteTime": {
     "end_time": "2024-01-26T15:52:53.732954925Z",
     "start_time": "2024-01-26T15:52:36.970500527Z"
    }
   },
   "execution_count": 55,
   "outputs": []
  },
  {
   "cell_type": "code",
   "source": [
    "mlp_predict = mlp_model.predict(X_test)"
   ],
   "metadata": {
    "id": "XMmw3pZPGWjK",
    "ExecuteTime": {
     "end_time": "2024-01-26T15:54:54.865117967Z",
     "start_time": "2024-01-26T15:54:54.762195893Z"
    }
   },
   "execution_count": 56,
   "outputs": []
  },
  {
   "cell_type": "code",
   "source": [
    "accuracy_score(mlp_predict, y_test)"
   ],
   "metadata": {
    "colab": {
     "base_uri": "https://localhost:8080/"
    },
    "id": "dIdhEAp4GjYR",
    "outputId": "e411d4ef-3265-4a24-a62d-76bee4d35d4e",
    "ExecuteTime": {
     "end_time": "2024-01-26T15:54:56.304742154Z",
     "start_time": "2024-01-26T15:54:56.221152268Z"
    }
   },
   "execution_count": 57,
   "outputs": [
    {
     "data": {
      "text/plain": "0.926509186351706"
     },
     "execution_count": 57,
     "metadata": {},
     "output_type": "execute_result"
    }
   ]
  },
  {
   "cell_type": "code",
   "source": [
    "print(classification_report(mlp_predict, y_test))"
   ],
   "metadata": {
    "colab": {
     "base_uri": "https://localhost:8080/"
    },
    "id": "JItWmUx-Gf24",
    "outputId": "9cb68da7-e727-485f-a423-89823bafb402",
    "ExecuteTime": {
     "end_time": "2024-01-26T15:54:57.324172490Z",
     "start_time": "2024-01-26T15:54:57.246912040Z"
    }
   },
   "execution_count": 58,
   "outputs": [
    {
     "name": "stdout",
     "output_type": "stream",
     "text": [
      "              precision    recall  f1-score   support\n",
      "\n",
      "           0       0.92      0.93      0.92      1085\n",
      "           1       0.93      0.93      0.93      1201\n",
      "\n",
      "    accuracy                           0.93      2286\n",
      "   macro avg       0.93      0.93      0.93      2286\n",
      "weighted avg       0.93      0.93      0.93      2286\n"
     ]
    }
   ]
  },
  {
   "cell_type": "code",
   "source": [
    "acc_score_mlp = accuracy_score(mlp_predict, y_test)\n",
    "f1_score_mlp = f1_score(mlp_predict, y_test)\n",
    "recall_score_mlp = recall_score(mlp_predict, y_test)\n",
    "precision_score_mlp = precision_score(mlp_predict, y_test)\n",
    "\n",
    "set_result('MLP', acc_score_mlp, f1_score_mlp,\n",
    "           recall_score_mlp, precision_score_mlp)"
   ],
   "metadata": {
    "id": "X6nSQ5POGrDt",
    "ExecuteTime": {
     "end_time": "2024-01-26T15:54:59.006025052Z",
     "start_time": "2024-01-26T15:54:58.878879413Z"
    }
   },
   "execution_count": 59,
   "outputs": []
  },
  {
   "cell_type": "markdown",
   "source": [
    "#Compare models\n"
   ],
   "metadata": {
    "id": "-gCQoJTOA7pG"
   }
  },
  {
   "cell_type": "code",
   "source": [
    "result = pd.DataFrame({\n",
    "    'Model': model_list,\n",
    "    'Accuracy': accuracy_list,\n",
    "    'F1_Score': f1_score_list,\n",
    "    'Recall': recall_list,\n",
    "    'Precision': precision_list\n",
    "})"
   ],
   "metadata": {
    "id": "V94C4MRsG5TE",
    "ExecuteTime": {
     "end_time": "2024-01-26T15:55:01.618629446Z",
     "start_time": "2024-01-26T15:55:01.543994449Z"
    }
   },
   "execution_count": 60,
   "outputs": []
  },
  {
   "cell_type": "code",
   "source": [
    "result = result.sort_values(by=['Accuracy', 'F1_Score'], ascending=False).reset_index(drop=True)"
   ],
   "metadata": {
    "id": "T06zHe4DHa9t",
    "ExecuteTime": {
     "end_time": "2024-01-26T15:55:03.190160992Z",
     "start_time": "2024-01-26T15:55:03.140526746Z"
    }
   },
   "execution_count": 61,
   "outputs": []
  },
  {
   "cell_type": "code",
   "source": [
    "result"
   ],
   "metadata": {
    "colab": {
     "base_uri": "https://localhost:8080/"
    },
    "id": "-w1nIJTwHyor",
    "outputId": "4f35b89e-a793-4b87-eba6-d07ba6226dfd",
    "ExecuteTime": {
     "end_time": "2024-01-26T15:55:04.751815104Z",
     "start_time": "2024-01-26T15:55:04.642932418Z"
    }
   },
   "execution_count": 62,
   "outputs": [
    {
     "data": {
      "text/plain": "  Model  Accuracy  F1_Score  Recall  Precision\n0    RF     0.952     0.954   0.955      0.952\n1   MLP     0.927     0.930   0.928      0.932\n2    DT     0.922     0.924   0.935      0.914\n3   LGR     0.881     0.883   0.911      0.857\n4   KNN     0.824     0.822   0.869      0.781\n5    NB     0.730     0.666   0.945      0.514\n6   SVM     0.725     0.737   0.736      0.739",
      "text/html": "<div>\n<style scoped>\n    .dataframe tbody tr th:only-of-type {\n        vertical-align: middle;\n    }\n\n    .dataframe tbody tr th {\n        vertical-align: top;\n    }\n\n    .dataframe thead th {\n        text-align: right;\n    }\n</style>\n<table border=\"1\" class=\"dataframe\">\n  <thead>\n    <tr style=\"text-align: right;\">\n      <th></th>\n      <th>Model</th>\n      <th>Accuracy</th>\n      <th>F1_Score</th>\n      <th>Recall</th>\n      <th>Precision</th>\n    </tr>\n  </thead>\n  <tbody>\n    <tr>\n      <th>0</th>\n      <td>RF</td>\n      <td>0.952</td>\n      <td>0.954</td>\n      <td>0.955</td>\n      <td>0.952</td>\n    </tr>\n    <tr>\n      <th>1</th>\n      <td>MLP</td>\n      <td>0.927</td>\n      <td>0.930</td>\n      <td>0.928</td>\n      <td>0.932</td>\n    </tr>\n    <tr>\n      <th>2</th>\n      <td>DT</td>\n      <td>0.922</td>\n      <td>0.924</td>\n      <td>0.935</td>\n      <td>0.914</td>\n    </tr>\n    <tr>\n      <th>3</th>\n      <td>LGR</td>\n      <td>0.881</td>\n      <td>0.883</td>\n      <td>0.911</td>\n      <td>0.857</td>\n    </tr>\n    <tr>\n      <th>4</th>\n      <td>KNN</td>\n      <td>0.824</td>\n      <td>0.822</td>\n      <td>0.869</td>\n      <td>0.781</td>\n    </tr>\n    <tr>\n      <th>5</th>\n      <td>NB</td>\n      <td>0.730</td>\n      <td>0.666</td>\n      <td>0.945</td>\n      <td>0.514</td>\n    </tr>\n    <tr>\n      <th>6</th>\n      <td>SVM</td>\n      <td>0.725</td>\n      <td>0.737</td>\n      <td>0.736</td>\n      <td>0.739</td>\n    </tr>\n  </tbody>\n</table>\n</div>"
     },
     "execution_count": 62,
     "metadata": {},
     "output_type": "execute_result"
    }
   ]
  },
  {
   "cell_type": "code",
   "source": [
    "sns.barplot(x=model_list, y=accuracy_list)\n",
    "plt.xlabel('Models')\n",
    "plt.ylabel('Accuracy')"
   ],
   "metadata": {
    "colab": {
     "base_uri": "https://localhost:8080/"
    },
    "id": "H-cWW1fbbSr5",
    "outputId": "0b71d9be-c1fd-4410-b82e-e97e816ab8d3",
    "ExecuteTime": {
     "end_time": "2024-01-26T15:55:11.274968938Z",
     "start_time": "2024-01-26T15:55:10.888472745Z"
    }
   },
   "execution_count": 63,
   "outputs": [
    {
     "data": {
      "text/plain": "Text(0, 0.5, 'Accuracy')"
     },
     "execution_count": 63,
     "metadata": {},
     "output_type": "execute_result"
    },
    {
     "data": {
      "text/plain": "<Figure size 640x480 with 1 Axes>",
      "image/png": "[encoded data removed]"
     },
     "metadata": {},
     "output_type": "display_data"
    }
   ]
  },
  {
   "cell_type": "code",
   "source": [
    "sns.barplot(x=model_list, y=f1_score_list)\n",
    "plt.xlabel('Models')\n",
    "plt.ylabel('F1_Score')"
   ],
   "metadata": {
    "colab": {
     "base_uri": "https://localhost:8080/"
    },
    "id": "1ffaf54ycjKx",
    "outputId": "7da2e085-b2d2-4acc-c1ed-6769522e5ab0",
    "ExecuteTime": {
     "end_time": "2024-01-26T15:55:13.134391130Z",
     "start_time": "2024-01-26T15:55:12.686637657Z"
    }
   },
   "execution_count": 64,
   "outputs": [
    {
     "data": {
      "text/plain": "Text(0, 0.5, 'F1_Score')"
     },
     "execution_count": 64,
     "metadata": {},
     "output_type": "execute_result"
    },
    {
     "data": {
      "text/plain": "<Figure size 640x480 with 1 Axes>",
      "image/png": "[encoded data removed]"
     },
     "metadata": {},
     "output_type": "display_data"
    }
   ]
  },
  {
   "cell_type": "code",
   "source": [
    "sns.barplot(x=model_list, y=recall_list)\n",
    "plt.xlabel('Models')\n",
    "plt.ylabel('Recall')"
   ],
   "metadata": {
    "colab": {
     "base_uri": "https://localhost:8080/"
    },
    "id": "dy90rhT5cqBW",
    "outputId": "5285d0cb-69fc-4b63-af2e-a46c3175a00d",
    "ExecuteTime": {
     "end_time": "2024-01-26T15:55:14.958537867Z",
     "start_time": "2024-01-26T15:55:14.522911166Z"
    }
   },
   "execution_count": 65,
   "outputs": [
    {
     "data": {
      "text/plain": "Text(0, 0.5, 'Recall')"
     },
     "execution_count": 65,
     "metadata": {},
     "output_type": "execute_result"
    },
    {
     "data": {
      "text/plain": "<Figure size 640x480 with 1 Axes>",
      "image/png": "[encoded data removed]"
     },
     "metadata": {},
     "output_type": "display_data"
    }
   ]
  },
  {
   "cell_type": "code",
   "source": [
    "sns.barplot(x=model_list, y=precision_list)\n",
    "plt.xlabel('Models')\n",
    "plt.ylabel('Precision')"
   ],
   "metadata": {
    "id": "EZbP6xEQeLzC",
    "outputId": "3704bd76-e0d6-41f5-b496-bcf089381f6b",
    "colab": {
     "base_uri": "https://localhost:8080/"
    },
    "ExecuteTime": {
     "end_time": "2024-01-26T15:55:16.288419586Z",
     "start_time": "2024-01-26T15:55:15.967631319Z"
    }
   },
   "execution_count": 66,
   "outputs": [
    {
     "data": {
      "text/plain": "Text(0, 0.5, 'Precision')"
     },
     "execution_count": 66,
     "metadata": {},
     "output_type": "execute_result"
    },
    {
     "data": {
      "text/plain": "<Figure size 640x480 with 1 Axes>",
      "image/png": "[encoded data removed]"
     },
     "metadata": {},
     "output_type": "display_data"
    }
   ]
  },
  {
   "cell_type": "markdown",
   "source": [
    "#Choose best model"
   ],
   "metadata": {
    "id": "E-fgdOWLJbwf"
   }
  },
  {
   "cell_type": "code",
   "source": [
    "rf = RandomForestClassifier()\n",
    "rf_model = rf.fit(X_train, y_train)"
   ],
   "metadata": {
    "id": "qnhRMJQ3HzMj",
    "ExecuteTime": {
     "end_time": "2024-01-26T15:55:21.475962077Z",
     "start_time": "2024-01-26T15:55:19.646871256Z"
    }
   },
   "execution_count": 67,
   "outputs": []
  },
  {
   "cell_type": "code",
   "source": [
    "#checking the feature improtance in the model\n",
    "plt.figure(figsize=(9,7))\n",
    "n_features = X_train.shape[1]\n",
    "plt.barh(range(n_features), rf_model.feature_importances_, align='center')\n",
    "plt.yticks(np.arange(n_features), X_train.columns)\n",
    "plt.title(\"Feature importances using permutation on full model\")\n",
    "plt.xlabel(\"Feature importance\")\n",
    "plt.ylabel(\"Feature\")\n",
    "plt.show()"
   ],
   "metadata": {
    "colab": {
     "base_uri": "https://localhost:8080/"
    },
    "id": "_Ok6VZomJoZj",
    "outputId": "2223a46f-cce2-4d84-9980-8b6481db6722",
    "ExecuteTime": {
     "end_time": "2024-01-26T15:55:23.532967810Z",
     "start_time": "2024-01-26T15:55:22.604725317Z"
    }
   },
   "execution_count": 68,
   "outputs": [
    {
     "data": {
      "text/plain": "<Figure size 900x700 with 1 Axes>",
      "image/png": "[encoded data removed]"
     },
     "metadata": {},
     "output_type": "display_data"
    }
   ]
  },
  {
   "cell_type": "markdown",
   "source": [
    "#Test"
   ],
   "metadata": {
    "id": "QZO0e7ibwCcA"
   }
  },
  {
   "cell_type": "code",
   "source": [
    "!pip install requests\n",
    "!pip install python-whois"
   ],
   "metadata": {
    "colab": {
     "base_uri": "https://localhost:8080/"
    },
    "id": "8cfq1Pm2wEMb",
    "outputId": "5819c1e7-9746-4270-c3d4-65bf9dc682bf",
    "ExecuteTime": {
     "end_time": "2024-01-26T15:55:50.529020181Z",
     "start_time": "2024-01-26T15:55:44.161581035Z"
    }
   },
   "execution_count": 69,
   "outputs": [
    {
     "name": "stdout",
     "output_type": "stream",
     "text": [
      "Defaulting to user installation because normal site-packages is not writeable\r\n",
      "Requirement already satisfied: requests in /usr/local/lib/python3.8/dist-packages (2.31.0)\r\n",
      "Requirement already satisfied: charset-normalizer<4,>=2 in /usr/local/lib/python3.8/dist-packages (from requests) (3.3.2)\r\n",
      "Requirement already satisfied: idna<4,>=2.5 in /usr/lib/python3/dist-packages (from requests) (2.8)\r\n",
      "Requirement already satisfied: urllib3<3,>=1.21.1 in /usr/lib/python3/dist-packages (from requests) (1.25.8)\r\n",
      "Requirement already satisfied: certifi>=2017.4.17 in /usr/lib/python3/dist-packages (from requests) (2019.11.28)\r\n",
      "Defaulting to user installation because normal site-packages is not writeable\r\n",
      "Requirement already satisfied: python-whois in /home/ngovi/.local/lib/python3.8/site-packages (0.8.0)\r\n",
      "Requirement already satisfied: future in /usr/lib/python3/dist-packages (from python-whois) (0.18.2)\r\n"
     ]
    }
   ]
  },
  {
   "cell_type": "code",
   "source": [
    "import features as fe\n",
    "import whois\n",
    "import requests\n",
    "import re\n",
    "from urllib.parse import urlparse\n",
    "from datetime import datetime"
   ],
   "metadata": {
    "id": "5mBmQ2WJwf86",
    "ExecuteTime": {
     "end_time": "2024-01-26T16:00:32.175111090Z",
     "start_time": "2024-01-26T16:00:32.069586483Z"
    }
   },
   "execution_count": 71,
   "outputs": []
  },
  {
   "cell_type": "code",
   "source": [
    "def create_vector(url):\n",
    "  key = \"wgowgcc4s4os0os8skw4wckw88s8wwkccwcsgcgg\"\n",
    "  flag = 1\n",
    "  features = []\n",
    "  try:\n",
    "    response = requests.get(url)\n",
    "  except:\n",
    "    response = \"\"\n",
    "\n",
    "  try:\n",
    "    domain_name = whois.whois(urlparse(url).netloc)\n",
    "  except:\n",
    "    flag = 0\n",
    "  features.append(fe.is_ip(url)),\n",
    "  features.append(fe.length_url(url)),\n",
    "  features.append(fe.length_hostname(url)),\n",
    "  features.append(fe.tiny_url(url)),\n",
    "  features.append(fe.countAtSign(url)),\n",
    "  features.append(fe.countQuestionMark(url)),\n",
    "  features.append(fe.countHyphen(url)),\n",
    "  features.append(fe.countDot(url)),\n",
    "  features.append(fe.countComma(url)),\n",
    "  features.append(fe.countSemicolon(url)),\n",
    "  features.append(fe.countDollar(url)),\n",
    "  features.append(fe.countSlash(url)),\n",
    "  features.append(fe.have_redirect(url)),\n",
    "  features.append(fe.CountEqual(url)),\n",
    "  features.append(fe.CountPercent(url)),\n",
    "  features.append(fe.CountUnderScore(url)),\n",
    "  features.append(fe.CountDotHostName(url)),\n",
    "  features.append(fe.CountColon(url)),\n",
    "  features.append(fe.CountStar(url)),\n",
    "  features.append(fe.CountHttp(url)),\n",
    "  features.append(fe.check_https_protocol(url)),\n",
    "  features.append(fe.RatioDigitsInHostname(url)),\n",
    "  features.append(fe.RatioDigitsURL(url)),\n",
    "  features.append(fe.have_prefixOrSuffix(url)),\n",
    "  features.append(fe.dns_expiration_length(url)),\n",
    "  features.append(fe.web_forwarding(response)),\n",
    "  features.append(fe.page_rank(key,url)),\n",
    "\n",
    "  features.append(0 if flag==0 else fe.DomainAge(domain_name))\n",
    "  features.append(0 if flag==0 else fe.DomainRegLen(domain_name))\n",
    "  features.append(fe.LinksInScriptTags(response,url))\n",
    "  features.append(fe.AnchorURL(response,url))\n",
    "\n",
    "\n",
    "  features.append(fe.count_www(url)),\n",
    "  features.append(fe.count_com(url)),\n",
    "  features.append(fe.length_word_raw(url)),\n",
    "\n",
    "  features.append(fe.average_word_length(fe.raw_words(url))),\n",
    "  features.append(fe.average_word_length(fe.raw_words_host(url))),\n",
    "  features.append(fe.average_word_length(fe.raw_words_path(url))),\n",
    "\n",
    "  features.append(fe.longest_word_length(fe.raw_words(url))),\n",
    "  features.append(fe.longest_word_length(fe.raw_words_host(url))),\n",
    "  features.append(fe.longest_word_length(fe.raw_words_path(url))),\n",
    "\n",
    "  features.append(fe.shortest_word_length(fe.raw_words(url))),\n",
    "  features.append(fe.shortest_word_length(fe.raw_words_host(url))),\n",
    "  features.append(fe.shortest_word_length(fe.raw_words_path(url))),\n",
    "\n",
    "  return features\n"
   ],
   "metadata": {
    "id": "EIGCUndPwT84",
    "ExecuteTime": {
     "end_time": "2024-01-26T16:01:18.618553357Z",
     "start_time": "2024-01-26T16:01:18.416142669Z"
    }
   },
   "execution_count": 72,
   "outputs": []
  },
  {
   "cell_type": "code",
   "source": [
    "columns =[\n",
    "   'is_ip',\n",
    "  'length_url',\n",
    "  'length_hostname',\n",
    "  'tiny_url',\n",
    "  'countAtSign',\n",
    "  'countQuestionMark',\n",
    "  'countHyphen',\n",
    "  'countDot',\n",
    "  'countComma',\n",
    "  'countSemicolon',\n",
    "  'countDollar',\n",
    "  'countSlash',\n",
    "  'have_redirect',\n",
    "  'CountEqual',\n",
    "  'CountPercent',\n",
    "  'CountUnderScore',\n",
    "  'CountDotHostName',\n",
    "  'CountColon',\n",
    "  'CountStar',\n",
    "  'CountHttp',\n",
    "  'checkHttps',\n",
    "  'RatioDigitHost',\n",
    "  'RatioDigitsURL',\n",
    "  'have_prefixOrSuffix',\n",
    "  'dns_record',\n",
    "  'count_redirect',\n",
    "  'page_rank',\n",
    "  'domain_age',\n",
    "  'domainRegLen',\n",
    "  'RatioLinksTag',\n",
    "  'RatioAnchorURL',\n",
    "\n",
    "  'count_www',\n",
    "  'count_com',\n",
    "  'length_word_raw',\n",
    "  'avg_row_words',\n",
    "  'avg_row_words_host',\n",
    "  'avg_row_words_path',\n",
    "  'longest_words_raw',\n",
    "  'longest_word_host',\n",
    "  'longest_word_path',\n",
    "  'shortest_words_raw',\n",
    "  'shortest_word_host',\n",
    "  'shortest_word_path',\n",
    "]"
   ],
   "metadata": {
    "id": "ZmNalWixxnhK",
    "ExecuteTime": {
     "end_time": "2024-01-26T16:01:20.968675154Z",
     "start_time": "2024-01-26T16:01:20.905350315Z"
    }
   },
   "execution_count": 73,
   "outputs": []
  },
  {
   "cell_type": "code",
   "source": [
    "url = ['https://www.google.com/', 'http://205.174.165.80/CICDataset/ISCX-URL-2016/',\n",
    "       'https://kotaku.com/the-witcher-3-wild-hunt-the-kotaku-review-1703766283',\n",
    "       'http://docs.python.org:80/3/library/urllib.parse.html?',\n",
    "\n",
    "       \t'https://usps.address-shipwatchers.shop/',\n",
    "       'https://grtakeprize.com/it/bp4f/index?c=2277&affId=BC6DC089&c1=48&c2=1opCaODZewbK&c3=1c1e607843434706847313349c7444a0&c4=&c7=&c5=&c8=&c6=&i1=&t1=',\n",
    "       'https://t.ly/EWZo9','http://fis-lab.com/wp-includes/images/smilies/front/wwpp/',\n",
    "\n",
    "       'https://www.kaggle.com/busrabetulcavusoglu/']"
   ],
   "metadata": {
    "id": "VT4YntdDxvGC",
    "ExecuteTime": {
     "end_time": "2024-01-26T16:01:22.314112970Z",
     "start_time": "2024-01-26T16:01:22.213996201Z"
    }
   },
   "execution_count": 74,
   "outputs": []
  },
  {
   "cell_type": "code",
   "source": [
    "import re\n",
    "from urllib.parse import urlparse\n",
    "import urllib\n",
    "from datetime import datetime, date\n",
    "import time\n",
    "import requests"
   ],
   "metadata": {
    "id": "FBvfvnTgi_hf",
    "ExecuteTime": {
     "end_time": "2024-01-26T16:01:23.654617509Z",
     "start_time": "2024-01-26T16:01:23.540105962Z"
    }
   },
   "execution_count": 75,
   "outputs": []
  },
  {
   "cell_type": "code",
   "source": [
    "url_list = []\n",
    "for i in url:\n",
    "  url_list.append(create_vector(i))"
   ],
   "metadata": {
    "id": "YTLN-iyocyHv",
    "ExecuteTime": {
     "end_time": "2024-01-26T16:06:23.114879800Z",
     "start_time": "2024-01-26T16:01:25.593004237Z"
    }
   },
   "execution_count": 76,
   "outputs": []
  },
  {
   "cell_type": "code",
   "source": [
    "df = pd.DataFrame(url_list, columns= columns)"
   ],
   "metadata": {
    "id": "qBGmN_MayIfh",
    "ExecuteTime": {
     "end_time": "2024-01-26T16:07:11.999229746Z",
     "start_time": "2024-01-26T16:07:11.880814843Z"
    }
   },
   "execution_count": 77,
   "outputs": []
  },
  {
   "cell_type": "code",
   "source": [
    "df"
   ],
   "metadata": {
    "colab": {
     "base_uri": "https://localhost:8080/",
     "height": 381
    },
    "id": "JpkPk5DTIi4D",
    "outputId": "f97ffe59-f99f-4525-96a2-c330fc6116e5",
    "ExecuteTime": {
     "end_time": "2024-01-26T16:07:13.714768612Z",
     "start_time": "2024-01-26T16:07:13.580848124Z"
    }
   },
   "execution_count": 78,
   "outputs": [
    {
     "data": {
      "text/plain": "   is_ip  length_url  length_hostname  tiny_url  countAtSign  \\\n0      0          23               14         0            0   \n1      1          47               14         0            0   \n2      0          71               10         0            0   \n3      0          54               15         0            0   \n4      0          39               30         0            0   \n5      0         145               15         0            0   \n6      0          18                4         0            0   \n7      0          57               11         0            0   \n8      0          43               14         0            0   \n\n   countQuestionMark  countHyphen  countDot  countComma  countSemicolon  ...  \\\n0                  0            0         2           0               0  ...   \n1                  0            2         3           0               0  ...   \n2                  0            8         1           0               0  ...   \n3                  1            0         4           0               0  ...   \n4                  0            1         2           0               0  ...   \n5                  1            0         1           0               0  ...   \n6                  0            0         1           0               0  ...   \n7                  0            2         1           0               0  ...   \n8                  0            0         2           0               0  ...   \n\n   length_word_raw  avg_row_words  avg_row_words_host  avg_row_words_path  \\\n0                2       4.500000            4.500000            0.000000   \n1               12       3.583333            2.750000            4.000000   \n2               10       5.000000            6.000000            4.888889   \n3                7       4.714286            5.000000            4.600000   \n4                3       7.666667            7.666667            0.000000   \n5               21       5.047619           11.000000            4.750000   \n6                2       3.000000            1.000000            5.000000   \n7                8       4.750000            3.000000            5.333333   \n8                3       9.333333            4.500000           19.000000   \n\n   longest_words_raw  longest_word_host  longest_word_path  \\\n0                  6                  6                  0   \n1                 10                  3                 10   \n2                 10                  6                 10   \n3                  7                  6                  7   \n4                 12                 12                  0   \n5                 32                 11                 32   \n6                  5                  1                  5   \n7                  8                  3                  8   \n8                 19                  6                 19   \n\n   shortest_words_raw  shortest_word_host  shortest_word_path  \n0                   3                   3                   0  \n1                   2                   2                   2  \n2                   1                   6                   1  \n3                   1                   4                   1  \n4                   4                   4                   0  \n5                   1                  11                   1  \n6                   1                   1                   5  \n7                   2                   3                   2  \n8                   3                   3                  19  \n\n[9 rows x 43 columns]",
      "text/html": "<div>\n<style scoped>\n    .dataframe tbody tr th:only-of-type {\n        vertical-align: middle;\n    }\n\n    .dataframe tbody tr th {\n        vertical-align: top;\n    }\n\n    .dataframe thead th {\n        text-align: right;\n    }\n</style>\n<table border=\"1\" class=\"dataframe\">\n  <thead>\n    <tr style=\"text-align: right;\">\n      <th></th>\n      <th>is_ip</th>\n      <th>length_url</th>\n      <th>length_hostname</th>\n      <th>tiny_url</th>\n      <th>countAtSign</th>\n      <th>countQuestionMark</th>\n      <th>countHyphen</th>\n      <th>countDot</th>\n      <th>countComma</th>\n      <th>countSemicolon</th>\n      <th>...</th>\n      <th>length_word_raw</th>\n      <th>avg_row_words</th>\n      <th>avg_row_words_host</th>\n      <th>avg_row_words_path</th>\n      <th>longest_words_raw</th>\n      <th>longest_word_host</th>\n      <th>longest_word_path</th>\n      <th>shortest_words_raw</th>\n      <th>shortest_word_host</th>\n      <th>shortest_word_path</th>\n    </tr>\n  </thead>\n  <tbody>\n    <tr>\n      <th>0</th>\n      <td>0</td>\n      <td>23</td>\n      <td>14</td>\n      <td>0</td>\n      <td>0</td>\n      <td>0</td>\n      <td>0</td>\n      <td>2</td>\n      <td>0</td>\n      <td>0</td>\n      <td>...</td>\n      <td>2</td>\n      <td>4.500000</td>\n      <td>4.500000</td>\n      <td>0.000000</td>\n      <td>6</td>\n      <td>6</td>\n      <td>0</td>\n      <td>3</td>\n      <td>3</td>\n      <td>0</td>\n    </tr>\n    <tr>\n      <th>1</th>\n      <td>1</td>\n      <td>47</td>\n      <td>14</td>\n      <td>0</td>\n      <td>0</td>\n      <td>0</td>\n      <td>2</td>\n      <td>3</td>\n      <td>0</td>\n      <td>0</td>\n      <td>...</td>\n      <td>12</td>\n      <td>3.583333</td>\n      <td>2.750000</td>\n      <td>4.000000</td>\n      <td>10</td>\n      <td>3</td>\n      <td>10</td>\n      <td>2</td>\n      <td>2</td>\n      <td>2</td>\n    </tr>\n    <tr>\n      <th>2</th>\n      <td>0</td>\n      <td>71</td>\n      <td>10</td>\n      <td>0</td>\n      <td>0</td>\n      <td>0</td>\n      <td>8</td>\n      <td>1</td>\n      <td>0</td>\n      <td>0</td>\n      <td>...</td>\n      <td>10</td>\n      <td>5.000000</td>\n      <td>6.000000</td>\n      <td>4.888889</td>\n      <td>10</td>\n      <td>6</td>\n      <td>10</td>\n      <td>1</td>\n      <td>6</td>\n      <td>1</td>\n    </tr>\n    <tr>\n      <th>3</th>\n      <td>0</td>\n      <td>54</td>\n      <td>15</td>\n      <td>0</td>\n      <td>0</td>\n      <td>1</td>\n      <td>0</td>\n      <td>4</td>\n      <td>0</td>\n      <td>0</td>\n      <td>...</td>\n      <td>7</td>\n      <td>4.714286</td>\n      <td>5.000000</td>\n      <td>4.600000</td>\n      <td>7</td>\n      <td>6</td>\n      <td>7</td>\n      <td>1</td>\n      <td>4</td>\n      <td>1</td>\n    </tr>\n    <tr>\n      <th>4</th>\n      <td>0</td>\n      <td>39</td>\n      <td>30</td>\n      <td>0</td>\n      <td>0</td>\n      <td>0</td>\n      <td>1</td>\n      <td>2</td>\n      <td>0</td>\n      <td>0</td>\n      <td>...</td>\n      <td>3</td>\n      <td>7.666667</td>\n      <td>7.666667</td>\n      <td>0.000000</td>\n      <td>12</td>\n      <td>12</td>\n      <td>0</td>\n      <td>4</td>\n      <td>4</td>\n      <td>0</td>\n    </tr>\n    <tr>\n      <th>5</th>\n      <td>0</td>\n      <td>145</td>\n      <td>15</td>\n      <td>0</td>\n      <td>0</td>\n      <td>1</td>\n      <td>0</td>\n      <td>1</td>\n      <td>0</td>\n      <td>0</td>\n      <td>...</td>\n      <td>21</td>\n      <td>5.047619</td>\n      <td>11.000000</td>\n      <td>4.750000</td>\n      <td>32</td>\n      <td>11</td>\n      <td>32</td>\n      <td>1</td>\n      <td>11</td>\n      <td>1</td>\n    </tr>\n    <tr>\n      <th>6</th>\n      <td>0</td>\n      <td>18</td>\n      <td>4</td>\n      <td>0</td>\n      <td>0</td>\n      <td>0</td>\n      <td>0</td>\n      <td>1</td>\n      <td>0</td>\n      <td>0</td>\n      <td>...</td>\n      <td>2</td>\n      <td>3.000000</td>\n      <td>1.000000</td>\n      <td>5.000000</td>\n      <td>5</td>\n      <td>1</td>\n      <td>5</td>\n      <td>1</td>\n      <td>1</td>\n      <td>5</td>\n    </tr>\n    <tr>\n      <th>7</th>\n      <td>0</td>\n      <td>57</td>\n      <td>11</td>\n      <td>0</td>\n      <td>0</td>\n      <td>0</td>\n      <td>2</td>\n      <td>1</td>\n      <td>0</td>\n      <td>0</td>\n      <td>...</td>\n      <td>8</td>\n      <td>4.750000</td>\n      <td>3.000000</td>\n      <td>5.333333</td>\n      <td>8</td>\n      <td>3</td>\n      <td>8</td>\n      <td>2</td>\n      <td>3</td>\n      <td>2</td>\n    </tr>\n    <tr>\n      <th>8</th>\n      <td>0</td>\n      <td>43</td>\n      <td>14</td>\n      <td>0</td>\n      <td>0</td>\n      <td>0</td>\n      <td>0</td>\n      <td>2</td>\n      <td>0</td>\n      <td>0</td>\n      <td>...</td>\n      <td>3</td>\n      <td>9.333333</td>\n      <td>4.500000</td>\n      <td>19.000000</td>\n      <td>19</td>\n      <td>6</td>\n      <td>19</td>\n      <td>3</td>\n      <td>3</td>\n      <td>19</td>\n    </tr>\n  </tbody>\n</table>\n<p>9 rows × 43 columns</p>\n</div>"
     },
     "execution_count": 78,
     "metadata": {},
     "output_type": "execute_result"
    }
   ]
  },
  {
   "cell_type": "code",
   "source": [
    "df.info()"
   ],
   "metadata": {
    "colab": {
     "base_uri": "https://localhost:8080/"
    },
    "id": "srpxOMQ7IStx",
    "outputId": "b2785715-45f2-4a1b-dda5-e7feef9e97b7",
    "ExecuteTime": {
     "end_time": "2024-01-26T16:07:50.327108455Z",
     "start_time": "2024-01-26T16:07:50.260313503Z"
    }
   },
   "execution_count": 79,
   "outputs": [
    {
     "name": "stdout",
     "output_type": "stream",
     "text": [
      "<class 'pandas.core.frame.DataFrame'>\n",
      "RangeIndex: 9 entries, 0 to 8\n",
      "Data columns (total 43 columns):\n",
      " #   Column               Non-Null Count  Dtype  \n",
      "---  ------               --------------  -----  \n",
      " 0   is_ip                9 non-null      int64  \n",
      " 1   length_url           9 non-null      int64  \n",
      " 2   length_hostname      9 non-null      int64  \n",
      " 3   tiny_url             9 non-null      int64  \n",
      " 4   countAtSign          9 non-null      int64  \n",
      " 5   countQuestionMark    9 non-null      int64  \n",
      " 6   countHyphen          9 non-null      int64  \n",
      " 7   countDot             9 non-null      int64  \n",
      " 8   countComma           9 non-null      int64  \n",
      " 9   countSemicolon       9 non-null      int64  \n",
      " 10  countDollar          9 non-null      int64  \n",
      " 11  countSlash           9 non-null      int64  \n",
      " 12  have_redirect        9 non-null      int64  \n",
      " 13  CountEqual           9 non-null      int64  \n",
      " 14  CountPercent         9 non-null      int64  \n",
      " 15  CountUnderScore      9 non-null      int64  \n",
      " 16  CountDotHostName     9 non-null      int64  \n",
      " 17  CountColon           9 non-null      int64  \n",
      " 18  CountStar            9 non-null      int64  \n",
      " 19  CountHttp            9 non-null      int64  \n",
      " 20  checkHttps           9 non-null      int64  \n",
      " 21  RatioDigitHost       9 non-null      float64\n",
      " 22  RatioDigitsURL       9 non-null      float64\n",
      " 23  have_prefixOrSuffix  9 non-null      int64  \n",
      " 24  dns_record           9 non-null      int64  \n",
      " 25  count_redirect       9 non-null      int64  \n",
      " 26  page_rank            9 non-null      int64  \n",
      " 27  domain_age           9 non-null      int64  \n",
      " 28  domainRegLen         9 non-null      int64  \n",
      " 29  RatioLinksTag        9 non-null      float64\n",
      " 30  RatioAnchorURL       9 non-null      float64\n",
      " 31  count_www            9 non-null      int64  \n",
      " 32  count_com            9 non-null      int64  \n",
      " 33  length_word_raw      9 non-null      int64  \n",
      " 34  avg_row_words        9 non-null      float64\n",
      " 35  avg_row_words_host   9 non-null      float64\n",
      " 36  avg_row_words_path   9 non-null      float64\n",
      " 37  longest_words_raw    9 non-null      int64  \n",
      " 38  longest_word_host    9 non-null      int64  \n",
      " 39  longest_word_path    9 non-null      int64  \n",
      " 40  shortest_words_raw   9 non-null      int64  \n",
      " 41  shortest_word_host   9 non-null      int64  \n",
      " 42  shortest_word_path   9 non-null      int64  \n",
      "dtypes: float64(7), int64(36)\n",
      "memory usage: 3.1 KB\n"
     ]
    }
   ]
  },
  {
   "cell_type": "code",
   "source": [
    "df.isna().sum()"
   ],
   "metadata": {
    "colab": {
     "base_uri": "https://localhost:8080/"
    },
    "id": "LSeT5theIV0h",
    "outputId": "79aba87f-cb83-4a6f-9938-605bb4aa414e",
    "ExecuteTime": {
     "end_time": "2024-01-26T16:07:52.854243418Z",
     "start_time": "2024-01-26T16:07:52.743857158Z"
    }
   },
   "execution_count": 80,
   "outputs": [
    {
     "data": {
      "text/plain": "is_ip                  0\nlength_url             0\nlength_hostname        0\ntiny_url               0\ncountAtSign            0\ncountQuestionMark      0\ncountHyphen            0\ncountDot               0\ncountComma             0\ncountSemicolon         0\ncountDollar            0\ncountSlash             0\nhave_redirect          0\nCountEqual             0\nCountPercent           0\nCountUnderScore        0\nCountDotHostName       0\nCountColon             0\nCountStar              0\nCountHttp              0\ncheckHttps             0\nRatioDigitHost         0\nRatioDigitsURL         0\nhave_prefixOrSuffix    0\ndns_record             0\ncount_redirect         0\npage_rank              0\ndomain_age             0\ndomainRegLen           0\nRatioLinksTag          0\nRatioAnchorURL         0\ncount_www              0\ncount_com              0\nlength_word_raw        0\navg_row_words          0\navg_row_words_host     0\navg_row_words_path     0\nlongest_words_raw      0\nlongest_word_host      0\nlongest_word_path      0\nshortest_words_raw     0\nshortest_word_host     0\nshortest_word_path     0\ndtype: int64"
     },
     "execution_count": 80,
     "metadata": {},
     "output_type": "execute_result"
    }
   ]
  },
  {
   "cell_type": "markdown",
   "source": [
    "#Fill missing value\n"
   ],
   "metadata": {
    "id": "3FskPLY0IhjI"
   }
  },
  {
   "cell_type": "code",
   "source": [
    "from sklearn.impute import SimpleImputer"
   ],
   "metadata": {
    "id": "sFibkJxuIY2V"
   },
   "execution_count": null,
   "outputs": []
  },
  {
   "cell_type": "code",
   "source": [
    "x_arr = X.values"
   ],
   "metadata": {
    "id": "kORV7IEqJPGH"
   },
   "execution_count": null,
   "outputs": []
  },
  {
   "cell_type": "code",
   "source": [
    "imputer = SimpleImputer(missing_values=np.nan, strategy=\"mean\")\n",
    "imputer.fit(x_arr[:, 25:26])"
   ],
   "metadata": {
    "colab": {
     "base_uri": "https://localhost:8080/",
     "height": 74
    },
    "id": "cH3-14DDInmE",
    "outputId": "0dd6f5ce-4b08-4c41-db56-4d826baa7707"
   },
   "execution_count": null,
   "outputs": [
    {
     "output_type": "execute_result",
     "data": {
      "text/plain": [
       "SimpleImputer()"
      ],
      "text/html": [
       "<style>#sk-container-id-1 {color: black;background-color: white;}#sk-container-id-1 pre{padding: 0;}#sk-container-id-1 div.sk-toggleable {background-color: white;}#sk-container-id-1 label.sk-toggleable__label {cursor: pointer;display: block;width: 100%;margin-bottom: 0;padding: 0.3em;box-sizing: border-box;text-align: center;}#sk-container-id-1 label.sk-toggleable__label-arrow:before {content: \"▸\";float: left;margin-right: 0.25em;color: #696969;}#sk-container-id-1 label.sk-toggleable__label-arrow:hover:before {color: black;}#sk-container-id-1 div.sk-estimator:hover label.sk-toggleable__label-arrow:before {color: black;}#sk-container-id-1 div.sk-toggleable__content {max-height: 0;max-width: 0;overflow: hidden;text-align: left;background-color: #f0f8ff;}#sk-container-id-1 div.sk-toggleable__content pre {margin: 0.2em;color: black;border-radius: 0.25em;background-color: #f0f8ff;}#sk-container-id-1 input.sk-toggleable__control:checked~div.sk-toggleable__content {max-height: 200px;max-width: 100%;overflow: auto;}#sk-container-id-1 input.sk-toggleable__control:checked~label.sk-toggleable__label-arrow:before {content: \"▾\";}#sk-container-id-1 div.sk-estimator input.sk-toggleable__control:checked~label.sk-toggleable__label {background-color: #d4ebff;}#sk-container-id-1 div.sk-label input.sk-toggleable__control:checked~label.sk-toggleable__label {background-color: #d4ebff;}#sk-container-id-1 input.sk-hidden--visually {border: 0;clip: rect(1px 1px 1px 1px);clip: rect(1px, 1px, 1px, 1px);height: 1px;margin: -1px;overflow: hidden;padding: 0;position: absolute;width: 1px;}#sk-container-id-1 div.sk-estimator {font-family: monospace;background-color: #f0f8ff;border: 1px dotted black;border-radius: 0.25em;box-sizing: border-box;margin-bottom: 0.5em;}#sk-container-id-1 div.sk-estimator:hover {background-color: #d4ebff;}#sk-container-id-1 div.sk-parallel-item::after {content: \"\";width: 100%;border-bottom: 1px solid gray;flex-grow: 1;}#sk-container-id-1 div.sk-label:hover label.sk-toggleable__label {background-color: #d4ebff;}#sk-container-id-1 div.sk-serial::before {content: \"\";position: absolute;border-left: 1px solid gray;box-sizing: border-box;top: 0;bottom: 0;left: 50%;z-index: 0;}#sk-container-id-1 div.sk-serial {display: flex;flex-direction: column;align-items: center;background-color: white;padding-right: 0.2em;padding-left: 0.2em;position: relative;}#sk-container-id-1 div.sk-item {position: relative;z-index: 1;}#sk-container-id-1 div.sk-parallel {display: flex;align-items: stretch;justify-content: center;background-color: white;position: relative;}#sk-container-id-1 div.sk-item::before, #sk-container-id-1 div.sk-parallel-item::before {content: \"\";position: absolute;border-left: 1px solid gray;box-sizing: border-box;top: 0;bottom: 0;left: 50%;z-index: -1;}#sk-container-id-1 div.sk-parallel-item {display: flex;flex-direction: column;z-index: 1;position: relative;background-color: white;}#sk-container-id-1 div.sk-parallel-item:first-child::after {align-self: flex-end;width: 50%;}#sk-container-id-1 div.sk-parallel-item:last-child::after {align-self: flex-start;width: 50%;}#sk-container-id-1 div.sk-parallel-item:only-child::after {width: 0;}#sk-container-id-1 div.sk-dashed-wrapped {border: 1px dashed gray;margin: 0 0.4em 0.5em 0.4em;box-sizing: border-box;padding-bottom: 0.4em;background-color: white;}#sk-container-id-1 div.sk-label label {font-family: monospace;font-weight: bold;display: inline-block;line-height: 1.2em;}#sk-container-id-1 div.sk-label-container {text-align: center;}#sk-container-id-1 div.sk-container {/* jupyter's `normalize.less` sets `[hidden] { display: none; }` but bootstrap.min.css set `[hidden] { display: none !important; }` so we also need the `!important` here to be able to override the default hidden behavior on the sphinx rendered scikit-learn.org. See: https://github.com/scikit-learn/scikit-learn/issues/21755 */display: inline-block !important;position: relative;}#sk-container-id-1 div.sk-text-repr-fallback {display: none;}</style><div id=\"sk-container-id-1\" class=\"sk-top-container\"><div class=\"sk-text-repr-fallback\"><pre>SimpleImputer()</pre><b>In a Jupyter environment, please rerun this cell to show the HTML representation or trust the notebook. <br />On GitHub, the HTML representation is unable to render, please try loading this page with nbviewer.org.</b></div><div class=\"sk-container\" hidden><div class=\"sk-item\"><div class=\"sk-estimator sk-toggleable\"><input class=\"sk-toggleable__control sk-hidden--visually\" id=\"sk-estimator-id-1\" type=\"checkbox\" checked><label for=\"sk-estimator-id-1\" class=\"sk-toggleable__label sk-toggleable__label-arrow\">SimpleImputer</label><div class=\"sk-toggleable__content\"><pre>SimpleImputer()</pre></div></div></div></div></div>"
      ]
     },
     "metadata": {},
     "execution_count": 119
    }
   ]
  },
  {
   "cell_type": "code",
   "source": [
    "df_values = df.values"
   ],
   "metadata": {
    "id": "F6JmuccmI__d"
   },
   "execution_count": null,
   "outputs": []
  },
  {
   "cell_type": "code",
   "source": [
    "df_values[:, 25:26] = imputer.transform(df_values[:, 25:26])"
   ],
   "metadata": {
    "id": "JHH-vNZVJZ4a"
   },
   "execution_count": null,
   "outputs": []
  },
  {
   "cell_type": "code",
   "source": [
    "df_values"
   ],
   "metadata": {
    "colab": {
     "base_uri": "https://localhost:8080/"
    },
    "id": "kTfB0RA2J1M9",
    "outputId": "87c9bf7b-88d2-4b6d-e893-6083a7868568"
   },
   "execution_count": null,
   "outputs": [
    {
     "output_type": "execute_result",
     "data": {
      "text/plain": [
       "array([[0.00000000e+00, 2.30000000e+01, 1.40000000e+01, 0.00000000e+00,\n",
       "        0.00000000e+00, 0.00000000e+00, 0.00000000e+00, 2.00000000e+00,\n",
       "        0.00000000e+00, 0.00000000e+00, 0.00000000e+00, 3.00000000e+00,\n",
       "        0.00000000e+00, 0.00000000e+00, 0.00000000e+00, 0.00000000e+00,\n",
       "        2.00000000e+00, 1.00000000e+00, 0.00000000e+00, 0.00000000e+00,\n",
       "        1.00000000e+00, 0.00000000e+00, 0.00000000e+00, 0.00000000e+00,\n",
       "        0.00000000e+00, 0.00000000e+00, 1.00000000e+01, 1.00000000e+00,\n",
       "        9.62700000e+03, 1.69400000e+03],\n",
       "       [0.00000000e+00, 4.70000000e+01, 1.40000000e+01, 0.00000000e+00,\n",
       "        0.00000000e+00, 0.00000000e+00, 2.00000000e+00, 3.00000000e+00,\n",
       "        0.00000000e+00, 0.00000000e+00, 0.00000000e+00, 5.00000000e+00,\n",
       "        0.00000000e+00, 0.00000000e+00, 0.00000000e+00, 0.00000000e+00,\n",
       "        3.00000000e+00, 1.00000000e+00, 0.00000000e+00, 0.00000000e+00,\n",
       "        0.00000000e+00, 7.85714286e-01, 3.19148936e-01, 0.00000000e+00,\n",
       "        0.00000000e+00, 0.00000000e+00, 0.00000000e+00, 1.00000000e+00,\n",
       "        7.52000000e+03, 1.51000000e+02],\n",
       "       [0.00000000e+00, 7.10000000e+01, 1.00000000e+01, 0.00000000e+00,\n",
       "        0.00000000e+00, 0.00000000e+00, 8.00000000e+00, 1.00000000e+00,\n",
       "        0.00000000e+00, 0.00000000e+00, 0.00000000e+00, 3.00000000e+00,\n",
       "        0.00000000e+00, 0.00000000e+00, 0.00000000e+00, 0.00000000e+00,\n",
       "        1.00000000e+00, 1.00000000e+00, 0.00000000e+00, 0.00000000e+00,\n",
       "        1.00000000e+00, 0.00000000e+00, 1.54929577e-01, 0.00000000e+00,\n",
       "        0.00000000e+00, 0.00000000e+00, 6.00000000e+00, 1.00000000e+00,\n",
       "        7.99600000e+03, 4.10000000e+01],\n",
       "       [0.00000000e+00, 5.40000000e+01, 1.50000000e+01, 0.00000000e+00,\n",
       "        0.00000000e+00, 1.00000000e+00, 0.00000000e+00, 4.00000000e+00,\n",
       "        0.00000000e+00, 0.00000000e+00, 0.00000000e+00, 5.00000000e+00,\n",
       "        0.00000000e+00, 0.00000000e+00, 0.00000000e+00, 0.00000000e+00,\n",
       "        2.00000000e+00, 2.00000000e+00, 0.00000000e+00, 0.00000000e+00,\n",
       "        0.00000000e+00, 0.00000000e+00, 5.55555556e-02, 0.00000000e+00,\n",
       "        0.00000000e+00, 1.00000000e+00, 0.00000000e+00, 1.00000000e+00,\n",
       "        0.00000000e+00, 0.00000000e+00],\n",
       "       [0.00000000e+00, 3.90000000e+01, 3.00000000e+01, 0.00000000e+00,\n",
       "        0.00000000e+00, 0.00000000e+00, 1.00000000e+00, 2.00000000e+00,\n",
       "        0.00000000e+00, 0.00000000e+00, 0.00000000e+00, 3.00000000e+00,\n",
       "        0.00000000e+00, 0.00000000e+00, 0.00000000e+00, 0.00000000e+00,\n",
       "        2.00000000e+00, 1.00000000e+00, 0.00000000e+00, 0.00000000e+00,\n",
       "        1.00000000e+00, 0.00000000e+00, 0.00000000e+00, 1.00000000e+00,\n",
       "        0.00000000e+00, 4.34820647e-01, 0.00000000e+00, 1.00000000e+00,\n",
       "        0.00000000e+00, 0.00000000e+00],\n",
       "       [0.00000000e+00, 1.45000000e+02, 1.50000000e+01, 0.00000000e+00,\n",
       "        0.00000000e+00, 1.00000000e+00, 0.00000000e+00, 1.00000000e+00,\n",
       "        0.00000000e+00, 0.00000000e+00, 0.00000000e+00, 5.00000000e+00,\n",
       "        0.00000000e+00, 1.20000000e+01, 0.00000000e+00, 0.00000000e+00,\n",
       "        1.00000000e+00, 1.00000000e+00, 0.00000000e+00, 0.00000000e+00,\n",
       "        1.00000000e+00, 0.00000000e+00, 3.44827586e-01, 0.00000000e+00,\n",
       "        0.00000000e+00, 0.00000000e+00, 0.00000000e+00, 1.00000000e+00,\n",
       "        2.11000000e+02, 1.55000000e+02],\n",
       "       [0.00000000e+00, 1.80000000e+01, 4.00000000e+00, 0.00000000e+00,\n",
       "        0.00000000e+00, 0.00000000e+00, 0.00000000e+00, 1.00000000e+00,\n",
       "        0.00000000e+00, 0.00000000e+00, 0.00000000e+00, 3.00000000e+00,\n",
       "        0.00000000e+00, 0.00000000e+00, 0.00000000e+00, 0.00000000e+00,\n",
       "        1.00000000e+00, 1.00000000e+00, 0.00000000e+00, 0.00000000e+00,\n",
       "        1.00000000e+00, 0.00000000e+00, 5.55555556e-02, 0.00000000e+00,\n",
       "        0.00000000e+00, 0.00000000e+00, 6.00000000e+00, 1.00000000e+00,\n",
       "        5.07700000e+03, 1.52200000e+03],\n",
       "       [0.00000000e+00, 5.70000000e+01, 1.10000000e+01, 0.00000000e+00,\n",
       "        0.00000000e+00, 0.00000000e+00, 2.00000000e+00, 1.00000000e+00,\n",
       "        0.00000000e+00, 0.00000000e+00, 0.00000000e+00, 8.00000000e+00,\n",
       "        0.00000000e+00, 0.00000000e+00, 0.00000000e+00, 0.00000000e+00,\n",
       "        1.00000000e+00, 1.00000000e+00, 0.00000000e+00, 0.00000000e+00,\n",
       "        0.00000000e+00, 0.00000000e+00, 0.00000000e+00, 1.00000000e+00,\n",
       "        1.00000000e+00, 4.34820647e-01, 0.00000000e+00, 0.00000000e+00,\n",
       "        0.00000000e+00, 0.00000000e+00],\n",
       "       [0.00000000e+00, 4.30000000e+01, 1.40000000e+01, 0.00000000e+00,\n",
       "        0.00000000e+00, 0.00000000e+00, 0.00000000e+00, 2.00000000e+00,\n",
       "        0.00000000e+00, 0.00000000e+00, 0.00000000e+00, 4.00000000e+00,\n",
       "        0.00000000e+00, 0.00000000e+00, 0.00000000e+00, 0.00000000e+00,\n",
       "        2.00000000e+00, 1.00000000e+00, 0.00000000e+00, 0.00000000e+00,\n",
       "        1.00000000e+00, 0.00000000e+00, 0.00000000e+00, 0.00000000e+00,\n",
       "        0.00000000e+00, 0.00000000e+00, 6.00000000e+00, 1.00000000e+00,\n",
       "        5.26200000e+03, 2.17000000e+02]])"
      ]
     },
     "metadata": {},
     "execution_count": 126
    }
   ]
  },
  {
   "cell_type": "markdown",
   "source": [
    "#Predict"
   ],
   "metadata": {
    "id": "RfvYAlgJIoEJ"
   }
  },
  {
   "cell_type": "code",
   "source": [
    "rf_predict = rf_model.predict(df)"
   ],
   "metadata": {
    "id": "oUoI3i6_yP5-",
    "ExecuteTime": {
     "end_time": "2024-01-26T16:08:02.956430771Z",
     "start_time": "2024-01-26T16:08:02.840483862Z"
    }
   },
   "execution_count": 81,
   "outputs": []
  },
  {
   "cell_type": "code",
   "source": [
    "result = rf_predict.tolist()"
   ],
   "metadata": {
    "id": "-o6-ihnq4zmO",
    "ExecuteTime": {
     "end_time": "2024-01-26T16:08:03.951749888Z",
     "start_time": "2024-01-26T16:08:03.900043798Z"
    }
   },
   "execution_count": 82,
   "outputs": []
  },
  {
   "cell_type": "code",
   "source": [
    "result"
   ],
   "metadata": {
    "colab": {
     "base_uri": "https://localhost:8080/"
    },
    "id": "aR2DTk71tNzB",
    "outputId": "917b4bd1-dda3-4adc-c1e1-5efc763c6713",
    "ExecuteTime": {
     "end_time": "2024-01-26T16:08:04.777666684Z",
     "start_time": "2024-01-26T16:08:04.708729573Z"
    }
   },
   "execution_count": 83,
   "outputs": [
    {
     "data": {
      "text/plain": "[0, 1, 0, 1, 1, 1, 1, 1, 0]"
     },
     "execution_count": 83,
     "metadata": {},
     "output_type": "execute_result"
    }
   ]
  },
  {
   "cell_type": "code",
   "source": [
    "combine = {'url': url, 'predict': result}"
   ],
   "metadata": {
    "id": "-FP_sHNVtqFl",
    "ExecuteTime": {
     "end_time": "2024-01-26T16:08:06.351906089Z",
     "start_time": "2024-01-26T16:08:06.206853292Z"
    }
   },
   "execution_count": 84,
   "outputs": []
  },
  {
   "cell_type": "code",
   "source": [
    "df_predict = pd.DataFrame(combine)"
   ],
   "metadata": {
    "id": "JuA1JIzvt1gS",
    "ExecuteTime": {
     "end_time": "2024-01-26T16:08:07.183573400Z",
     "start_time": "2024-01-26T16:08:07.139530678Z"
    }
   },
   "execution_count": 85,
   "outputs": []
  },
  {
   "cell_type": "code",
   "source": [
    "df_predict"
   ],
   "metadata": {
    "colab": {
     "base_uri": "https://localhost:8080/",
     "height": 332
    },
    "id": "mWiV6njst8F6",
    "outputId": "9c04affd-4217-421b-acba-7c270cf20d84",
    "ExecuteTime": {
     "end_time": "2024-01-26T16:08:07.907199281Z",
     "start_time": "2024-01-26T16:08:07.843473868Z"
    }
   },
   "execution_count": 86,
   "outputs": [
    {
     "data": {
      "text/plain": "                                                 url  predict\n0                            https://www.google.com/        0\n1    http://205.174.165.80/CICDataset/ISCX-URL-2016/        1\n2  https://kotaku.com/the-witcher-3-wild-hunt-the...        0\n3  http://docs.python.org:80/3/library/urllib.par...        1\n4            https://usps.address-shipwatchers.shop/        1\n5  https://grtakeprize.com/it/bp4f/index?c=2277&a...        1\n6                                 https://t.ly/EWZo9        1\n7  http://fis-lab.com/wp-includes/images/smilies/...        1\n8        https://www.kaggle.com/busrabetulcavusoglu/        0",
      "text/html": "<div>\n<style scoped>\n    .dataframe tbody tr th:only-of-type {\n        vertical-align: middle;\n    }\n\n    .dataframe tbody tr th {\n        vertical-align: top;\n    }\n\n    .dataframe thead th {\n        text-align: right;\n    }\n</style>\n<table border=\"1\" class=\"dataframe\">\n  <thead>\n    <tr style=\"text-align: right;\">\n      <th></th>\n      <th>url</th>\n      <th>predict</th>\n    </tr>\n  </thead>\n  <tbody>\n    <tr>\n      <th>0</th>\n      <td>https://www.google.com/</td>\n      <td>0</td>\n    </tr>\n    <tr>\n      <th>1</th>\n      <td>http://205.174.165.80/CICDataset/ISCX-URL-2016/</td>\n      <td>1</td>\n    </tr>\n    <tr>\n      <th>2</th>\n      <td>https://kotaku.com/the-witcher-3-wild-hunt-the...</td>\n      <td>0</td>\n    </tr>\n    <tr>\n      <th>3</th>\n      <td>http://docs.python.org:80/3/library/urllib.par...</td>\n      <td>1</td>\n    </tr>\n    <tr>\n      <th>4</th>\n      <td>https://usps.address-shipwatchers.shop/</td>\n      <td>1</td>\n    </tr>\n    <tr>\n      <th>5</th>\n      <td>https://grtakeprize.com/it/bp4f/index?c=2277&amp;a...</td>\n      <td>1</td>\n    </tr>\n    <tr>\n      <th>6</th>\n      <td>https://t.ly/EWZo9</td>\n      <td>1</td>\n    </tr>\n    <tr>\n      <th>7</th>\n      <td>http://fis-lab.com/wp-includes/images/smilies/...</td>\n      <td>1</td>\n    </tr>\n    <tr>\n      <th>8</th>\n      <td>https://www.kaggle.com/busrabetulcavusoglu/</td>\n      <td>0</td>\n    </tr>\n  </tbody>\n</table>\n</div>"
     },
     "execution_count": 86,
     "metadata": {},
     "output_type": "execute_result"
    }
   ]
  },
  {
   "cell_type": "code",
   "execution_count": null,
   "outputs": [],
   "source": [],
   "metadata": {
    "collapsed": false
   }
  }
 ]
}
